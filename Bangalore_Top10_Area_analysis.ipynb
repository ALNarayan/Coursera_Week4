{
 "cells": [
  {
   "cell_type": "markdown",
   "metadata": {},
   "source": [
    "## Introduction\n",
    "\n",
    "In this lab, We will analyze the top 10 areas of Bangalore. This will help mainly,\n",
    "1. People who are targeting to Purchase plots/Flats in these areas.\n",
    "2. Real Estate people to explain their customers nicely about most happening events across the interested areas.\n",
    "3. This model will be flexible enough To expand the analysis to new Areas. By just adding Lat ,Long of new area to list.\n",
    "4. Foursquare API used to featch required details about the areas.\n",
    "5. Maps used to plat the cities being analyzed with the help of Folium library."
   ]
  },
  {
   "cell_type": "markdown",
   "metadata": {},
   "source": [
    "1. Dataset Preparation\n",
    "\n",
    "2. Plot Bangalore city with Top 10 noted cities\n",
    "\n",
    "3. Analyze Area for top venues\n",
    "\n",
    "4. Display ares with suitability over residance,Shopping,entertinement etc Factors\n",
    "\n",
    "Before start exploring data, let's download all the dependencies that we will need.\n"
   ]
  },
  {
   "cell_type": "code",
   "execution_count": 1,
   "metadata": {},
   "outputs": [
    {
     "name": "stdout",
     "output_type": "stream",
     "text": [
      "Solving environment: done\n",
      "\n",
      "\n",
      "==> WARNING: A newer version of conda exists. <==\n",
      "  current version: 4.5.11\n",
      "  latest version: 4.7.12\n",
      "\n",
      "Please update conda by running\n",
      "\n",
      "    $ conda update -n base -c defaults conda\n",
      "\n",
      "\n",
      "\n",
      "## Package Plan ##\n",
      "\n",
      "  environment location: /home/jupyterlab/conda/envs/python\n",
      "\n",
      "  added / updated specs: \n",
      "    - python-graphviz\n",
      "\n",
      "\n",
      "The following packages will be downloaded:\n",
      "\n",
      "    package                    |            build\n",
      "    ---------------------------|-----------------\n",
      "    certifi-2019.9.11          |           py36_0         154 KB\n",
      "    python-graphviz-0.13       |             py_0          24 KB\n",
      "    openssl-1.1.1d             |       h7b6447c_3         3.7 MB\n",
      "    ------------------------------------------------------------\n",
      "                                           Total:         3.9 MB\n",
      "\n",
      "The following NEW packages will be INSTALLED:\n",
      "\n",
      "    python-graphviz: 0.13-py_0                    \n",
      "\n",
      "The following packages will be UPDATED:\n",
      "\n",
      "    certifi:         2019.9.11-py36_0  conda-forge --> 2019.9.11-py36_0 \n",
      "    openssl:         1.1.1d-h516909a_0 conda-forge --> 1.1.1d-h7b6447c_3\n",
      "\n",
      "\n",
      "Downloading and Extracting Packages\n",
      "certifi-2019.9.11    | 154 KB    | ##################################### | 100% \n",
      "python-graphviz-0.13 | 24 KB     | ##################################### | 100% \n",
      "openssl-1.1.1d       | 3.7 MB    | ##################################### | 100% \n",
      "Preparing transaction: done\n",
      "Verifying transaction: done\n",
      "Executing transaction: done\n",
      "Solving environment: done\n",
      "\n",
      "\n",
      "==> WARNING: A newer version of conda exists. <==\n",
      "  current version: 4.5.11\n",
      "  latest version: 4.7.12\n",
      "\n",
      "Please update conda by running\n",
      "\n",
      "    $ conda update -n base -c defaults conda\n",
      "\n",
      "\n",
      "\n",
      "## Package Plan ##\n",
      "\n",
      "  environment location: /home/jupyterlab/conda/envs/python\n",
      "\n",
      "  added / updated specs: \n",
      "    - folium=0.5.0\n",
      "\n",
      "\n",
      "The following packages will be downloaded:\n",
      "\n",
      "    package                    |            build\n",
      "    ---------------------------|-----------------\n",
      "    scikit-learn-0.20.1        |   py36h22eb022_0         5.7 MB\n",
      "    liblapack-3.8.0            |      11_openblas          10 KB  conda-forge\n",
      "    scipy-1.3.2                |   py36h921218d_0        18.0 MB  conda-forge\n",
      "    certifi-2019.9.11          |           py36_0         147 KB  conda-forge\n",
      "    libopenblas-0.3.6          |       h5a2b251_2         7.7 MB\n",
      "    liblapacke-3.8.0           |      11_openblas          10 KB  conda-forge\n",
      "    numpy-1.17.3               |   py36h95a1406_0         5.2 MB  conda-forge\n",
      "    libcblas-3.8.0             |      11_openblas          10 KB  conda-forge\n",
      "    libblas-3.8.0              |      11_openblas          10 KB  conda-forge\n",
      "    blas-2.11                  |         openblas          10 KB  conda-forge\n",
      "    ------------------------------------------------------------\n",
      "                                           Total:        36.8 MB\n",
      "\n",
      "The following NEW packages will be INSTALLED:\n",
      "\n",
      "    libblas:      3.8.0-11_openblas                      conda-forge\n",
      "    libcblas:     3.8.0-11_openblas                      conda-forge\n",
      "    liblapack:    3.8.0-11_openblas                      conda-forge\n",
      "    liblapacke:   3.8.0-11_openblas                      conda-forge\n",
      "    libopenblas:  0.3.6-h5a2b251_2                                  \n",
      "\n",
      "The following packages will be UPDATED:\n",
      "\n",
      "    blas:         1.1-openblas                           conda-forge --> 2.11-openblas         conda-forge\n",
      "    certifi:      2019.9.11-py36_0                                   --> 2019.9.11-py36_0      conda-forge\n",
      "    numpy:        1.16.2-py36_blas_openblash1522bff_0    conda-forge [blas_openblas] --> 1.17.3-py36h95a1406_0 conda-forge\n",
      "    scipy:        1.2.1-py36_blas_openblash1522bff_0     conda-forge [blas_openblas] --> 1.3.2-py36h921218d_0  conda-forge\n",
      "\n",
      "The following packages will be DOWNGRADED:\n",
      "\n",
      "    openssl:      1.1.1d-h7b6447c_3                                  --> 1.1.1d-h516909a_0     conda-forge\n",
      "    scikit-learn: 0.20.1-py36_blas_openblashebff5e3_1200 conda-forge [blas_openblas] --> 0.20.1-py36h22eb022_0            \n",
      "\n",
      "\n",
      "Downloading and Extracting Packages\n",
      "scikit-learn-0.20.1  | 5.7 MB    | ##################################### | 100% \n",
      "liblapack-3.8.0      | 10 KB     | ##################################### | 100% \n",
      "scipy-1.3.2          | 18.0 MB   | ##################################### | 100% \n",
      "certifi-2019.9.11    | 147 KB    | ##################################### | 100% \n",
      "libopenblas-0.3.6    | 7.7 MB    | ##################################### | 100% \n",
      "liblapacke-3.8.0     | 10 KB     | ##################################### | 100% \n",
      "numpy-1.17.3         | 5.2 MB    | ##################################### | 100% \n",
      "libcblas-3.8.0       | 10 KB     | ##################################### | 100% \n",
      "libblas-3.8.0        | 10 KB     | ##################################### | 100% \n",
      "blas-2.11            | 10 KB     | ##################################### | 100% \n",
      "Preparing transaction: done\n",
      "Verifying transaction: done\n",
      "Executing transaction: done\n"
     ]
    }
   ],
   "source": [
    "%matplotlib inline\n",
    "from sklearn import tree\n",
    "from sklearn.metrics import accuracy_score, confusion_matrix\n",
    "\n",
    "import matplotlib.pyplot as plt\n",
    "\n",
    "!conda install python-graphviz --yes\n",
    "!conda install -c conda-forge folium=0.5.0 --yes\n",
    "import graphviz\n",
    "\n",
    "from sklearn.tree import export_graphviz\n",
    "\n",
    "import itertools"
   ]
  },
  {
   "cell_type": "code",
   "execution_count": 2,
   "metadata": {},
   "outputs": [
    {
     "name": "stdout",
     "output_type": "stream",
     "text": [
      "Folium installed\n",
      "Libraries imported.\n"
     ]
    }
   ],
   "source": [
    "import requests # library to handle requests\n",
    "import pandas as pd # library for data analsysis\n",
    "import numpy as np # library to handle data in a vectorized manner\n",
    "import random # library for random number generation\n",
    "\n",
    "# libraries for displaying images\n",
    "from IPython.display import Image \n",
    "from IPython.core.display import HTML \n",
    "    \n",
    "# tranforming json file into a pandas dataframe library\n",
    "from pandas.io.json import json_normalize\n",
    "\n",
    "import folium # plotting library\n",
    "\n",
    "print('Folium installed')\n",
    "print('Libraries imported.')"
   ]
  },
  {
   "cell_type": "markdown",
   "metadata": {},
   "source": [
    "#### Innitial data has been collected from various sources"
   ]
  },
  {
   "cell_type": "markdown",
   "metadata": {},
   "source": [
    "Wiki has heped a lot in finding the Topic and Required Lat langs of the intrested areas"
   ]
  },
  {
   "cell_type": "markdown",
   "metadata": {},
   "source": [
    "All the raw data collected should be moved into Pandas to start with analysis"
   ]
  },
  {
   "cell_type": "markdown",
   "metadata": {},
   "source": [
    "Let's start"
   ]
  },
  {
   "cell_type": "markdown",
   "metadata": {},
   "source": [
    "#### Use latitude and longitude values of Bangalore City.Tranform the data into a *pandas* dataframe"
   ]
  },
  {
   "cell_type": "markdown",
   "metadata": {},
   "source": [
    "Data loaded Dataframe Ready as below"
   ]
  },
  {
   "cell_type": "code",
   "execution_count": 3,
   "metadata": {
    "collapsed": false,
    "jupyter": {
     "outputs_hidden": false
    },
    "scrolled": true
   },
   "outputs": [
    {
     "name": "stdout",
     "output_type": "stream",
     "text": [
      "The geograpical coordinate of Bangalore are 12.972442, 77.580643.\n"
     ]
    },
    {
     "data": {
      "text/html": [
       "<div>\n",
       "<style scoped>\n",
       "    .dataframe tbody tr th:only-of-type {\n",
       "        vertical-align: middle;\n",
       "    }\n",
       "\n",
       "    .dataframe tbody tr th {\n",
       "        vertical-align: top;\n",
       "    }\n",
       "\n",
       "    .dataframe thead th {\n",
       "        text-align: right;\n",
       "    }\n",
       "</style>\n",
       "<table border=\"1\" class=\"dataframe\">\n",
       "  <thead>\n",
       "    <tr style=\"text-align: right;\">\n",
       "      <th></th>\n",
       "      <th>Area Name</th>\n",
       "      <th>Latitude</th>\n",
       "      <th>Longitude</th>\n",
       "    </tr>\n",
       "  </thead>\n",
       "  <tbody>\n",
       "    <tr>\n",
       "      <th>6</th>\n",
       "      <td>Banashankari</td>\n",
       "      <td>12.925453</td>\n",
       "      <td>77.546761</td>\n",
       "    </tr>\n",
       "    <tr>\n",
       "      <th>8</th>\n",
       "      <td>Basavanagudi</td>\n",
       "      <td>12.942117</td>\n",
       "      <td>77.575361</td>\n",
       "    </tr>\n",
       "    <tr>\n",
       "      <th>4</th>\n",
       "      <td>Hebbal</td>\n",
       "      <td>13.035781</td>\n",
       "      <td>77.597008</td>\n",
       "    </tr>\n",
       "    <tr>\n",
       "      <th>0</th>\n",
       "      <td>Indira Nagar</td>\n",
       "      <td>12.971891</td>\n",
       "      <td>77.641151</td>\n",
       "    </tr>\n",
       "    <tr>\n",
       "      <th>5</th>\n",
       "      <td>Jayanagar</td>\n",
       "      <td>12.927501</td>\n",
       "      <td>77.582774</td>\n",
       "    </tr>\n",
       "    <tr>\n",
       "      <th>3</th>\n",
       "      <td>Koramangala</td>\n",
       "      <td>12.934533</td>\n",
       "      <td>77.626579</td>\n",
       "    </tr>\n",
       "    <tr>\n",
       "      <th>2</th>\n",
       "      <td>Malleshwaram</td>\n",
       "      <td>13.005459</td>\n",
       "      <td>77.569199</td>\n",
       "    </tr>\n",
       "    <tr>\n",
       "      <th>1</th>\n",
       "      <td>Marathahalli</td>\n",
       "      <td>12.951845</td>\n",
       "      <td>77.699577</td>\n",
       "    </tr>\n",
       "    <tr>\n",
       "      <th>7</th>\n",
       "      <td>Ulsoor</td>\n",
       "      <td>12.975500</td>\n",
       "      <td>77.618200</td>\n",
       "    </tr>\n",
       "    <tr>\n",
       "      <th>9</th>\n",
       "      <td>Whitefield</td>\n",
       "      <td>12.971389</td>\n",
       "      <td>77.750130</td>\n",
       "    </tr>\n",
       "  </tbody>\n",
       "</table>\n",
       "</div>"
      ],
      "text/plain": [
       "      Area Name   Latitude  Longitude\n",
       "6  Banashankari  12.925453  77.546761\n",
       "8  Basavanagudi  12.942117  77.575361\n",
       "4        Hebbal  13.035781  77.597008\n",
       "0  Indira Nagar  12.971891  77.641151\n",
       "5     Jayanagar  12.927501  77.582774\n",
       "3   Koramangala  12.934533  77.626579\n",
       "2  Malleshwaram  13.005459  77.569199\n",
       "1  Marathahalli  12.951845  77.699577\n",
       "7        Ulsoor  12.975500  77.618200\n",
       "9    Whitefield  12.971389  77.750130"
      ]
     },
     "execution_count": 3,
     "metadata": {},
     "output_type": "execute_result"
    }
   ],
   "source": [
    "address = 'Bangalore'\n",
    "latitude = 12.972442\n",
    "longitude = 77.580643\n",
    "print('The geograpical coordinate of Bangalore are {}, {}.'.format(latitude, longitude))\n",
    "\n",
    "\n",
    "\n",
    "# initialize list of lists \n",
    "data = [['Indira Nagar',12.971891,77.641151],\n",
    " ['Marathahalli',12.951845,77.699577],\n",
    "['Malleshwaram',13.005459,77.569199],\n",
    "['Koramangala',12.934533,77.626579],\n",
    "['Hebbal',13.035781,77.597008],\n",
    "['Jayanagar',12.927501,77.582774],\n",
    "['Banashankari',12.925453,77.546761],\n",
    "['Ulsoor',12.9755,77.6182],\n",
    "['Basavanagudi',12.942117,77.575361],\n",
    "['Whitefield',12.971389,77.750130]]\n",
    "  \n",
    "# Create the pandas DataFrame \n",
    "df = pd.DataFrame(data, columns = ['Area Name', 'Latitude','Longitude']) \n",
    "df.sort_values(by=['Area Name'], ascending=[True],inplace=True) \n",
    "# print dataframe. \n",
    "df "
   ]
  },
  {
   "cell_type": "markdown",
   "metadata": {},
   "source": [
    "#### Create a map of Bangalore with neighborhoods superimposed on top."
   ]
  },
  {
   "cell_type": "code",
   "execution_count": 4,
   "metadata": {
    "collapsed": false,
    "jupyter": {
     "outputs_hidden": false
    }
   },
   "outputs": [
    {
     "data": {
      "text/html": [
       "<div style=\"width:100%;\"><div style=\"position:relative;width:100%;height:0;padding-bottom:60%;\"><iframe src=\"data:text/html;charset=utf-8;base64,PCFET0NUWVBFIGh0bWw+CjxoZWFkPiAgICAKICAgIDxtZXRhIGh0dHAtZXF1aXY9ImNvbnRlbnQtdHlwZSIgY29udGVudD0idGV4dC9odG1sOyBjaGFyc2V0PVVURi04IiAvPgogICAgPHNjcmlwdD5MX1BSRUZFUl9DQU5WQVMgPSBmYWxzZTsgTF9OT19UT1VDSCA9IGZhbHNlOyBMX0RJU0FCTEVfM0QgPSBmYWxzZTs8L3NjcmlwdD4KICAgIDxzY3JpcHQgc3JjPSJodHRwczovL2Nkbi5qc2RlbGl2ci5uZXQvbnBtL2xlYWZsZXRAMS4yLjAvZGlzdC9sZWFmbGV0LmpzIj48L3NjcmlwdD4KICAgIDxzY3JpcHQgc3JjPSJodHRwczovL2FqYXguZ29vZ2xlYXBpcy5jb20vYWpheC9saWJzL2pxdWVyeS8xLjExLjEvanF1ZXJ5Lm1pbi5qcyI+PC9zY3JpcHQ+CiAgICA8c2NyaXB0IHNyYz0iaHR0cHM6Ly9tYXhjZG4uYm9vdHN0cmFwY2RuLmNvbS9ib290c3RyYXAvMy4yLjAvanMvYm9vdHN0cmFwLm1pbi5qcyI+PC9zY3JpcHQ+CiAgICA8c2NyaXB0IHNyYz0iaHR0cHM6Ly9jZG5qcy5jbG91ZGZsYXJlLmNvbS9hamF4L2xpYnMvTGVhZmxldC5hd2Vzb21lLW1hcmtlcnMvMi4wLjIvbGVhZmxldC5hd2Vzb21lLW1hcmtlcnMuanMiPjwvc2NyaXB0PgogICAgPGxpbmsgcmVsPSJzdHlsZXNoZWV0IiBocmVmPSJodHRwczovL2Nkbi5qc2RlbGl2ci5uZXQvbnBtL2xlYWZsZXRAMS4yLjAvZGlzdC9sZWFmbGV0LmNzcyIvPgogICAgPGxpbmsgcmVsPSJzdHlsZXNoZWV0IiBocmVmPSJodHRwczovL21heGNkbi5ib290c3RyYXBjZG4uY29tL2Jvb3RzdHJhcC8zLjIuMC9jc3MvYm9vdHN0cmFwLm1pbi5jc3MiLz4KICAgIDxsaW5rIHJlbD0ic3R5bGVzaGVldCIgaHJlZj0iaHR0cHM6Ly9tYXhjZG4uYm9vdHN0cmFwY2RuLmNvbS9ib290c3RyYXAvMy4yLjAvY3NzL2Jvb3RzdHJhcC10aGVtZS5taW4uY3NzIi8+CiAgICA8bGluayByZWw9InN0eWxlc2hlZXQiIGhyZWY9Imh0dHBzOi8vbWF4Y2RuLmJvb3RzdHJhcGNkbi5jb20vZm9udC1hd2Vzb21lLzQuNi4zL2Nzcy9mb250LWF3ZXNvbWUubWluLmNzcyIvPgogICAgPGxpbmsgcmVsPSJzdHlsZXNoZWV0IiBocmVmPSJodHRwczovL2NkbmpzLmNsb3VkZmxhcmUuY29tL2FqYXgvbGlicy9MZWFmbGV0LmF3ZXNvbWUtbWFya2Vycy8yLjAuMi9sZWFmbGV0LmF3ZXNvbWUtbWFya2Vycy5jc3MiLz4KICAgIDxsaW5rIHJlbD0ic3R5bGVzaGVldCIgaHJlZj0iaHR0cHM6Ly9yYXdnaXQuY29tL3B5dGhvbi12aXN1YWxpemF0aW9uL2ZvbGl1bS9tYXN0ZXIvZm9saXVtL3RlbXBsYXRlcy9sZWFmbGV0LmF3ZXNvbWUucm90YXRlLmNzcyIvPgogICAgPHN0eWxlPmh0bWwsIGJvZHkge3dpZHRoOiAxMDAlO2hlaWdodDogMTAwJTttYXJnaW46IDA7cGFkZGluZzogMDt9PC9zdHlsZT4KICAgIDxzdHlsZT4jbWFwIHtwb3NpdGlvbjphYnNvbHV0ZTt0b3A6MDtib3R0b206MDtyaWdodDowO2xlZnQ6MDt9PC9zdHlsZT4KICAgIAogICAgICAgICAgICA8c3R5bGU+ICNtYXBfYjk3YzI5ZTVjNDEzNDA3ZTkzMjJjYzVlM2M3M2UyMGMgewogICAgICAgICAgICAgICAgcG9zaXRpb24gOiByZWxhdGl2ZTsKICAgICAgICAgICAgICAgIHdpZHRoIDogMTAwLjAlOwogICAgICAgICAgICAgICAgaGVpZ2h0OiAxMDAuMCU7CiAgICAgICAgICAgICAgICBsZWZ0OiAwLjAlOwogICAgICAgICAgICAgICAgdG9wOiAwLjAlOwogICAgICAgICAgICAgICAgfQogICAgICAgICAgICA8L3N0eWxlPgogICAgICAgIAo8L2hlYWQ+Cjxib2R5PiAgICAKICAgIAogICAgICAgICAgICA8ZGl2IGNsYXNzPSJmb2xpdW0tbWFwIiBpZD0ibWFwX2I5N2MyOWU1YzQxMzQwN2U5MzIyY2M1ZTNjNzNlMjBjIiA+PC9kaXY+CiAgICAgICAgCjwvYm9keT4KPHNjcmlwdD4gICAgCiAgICAKCiAgICAgICAgICAgIAogICAgICAgICAgICAgICAgdmFyIGJvdW5kcyA9IG51bGw7CiAgICAgICAgICAgIAoKICAgICAgICAgICAgdmFyIG1hcF9iOTdjMjllNWM0MTM0MDdlOTMyMmNjNWUzYzczZTIwYyA9IEwubWFwKAogICAgICAgICAgICAgICAgICAgICAgICAgICAgICAgICAgJ21hcF9iOTdjMjllNWM0MTM0MDdlOTMyMmNjNWUzYzczZTIwYycsCiAgICAgICAgICAgICAgICAgICAgICAgICAgICAgICAgICB7Y2VudGVyOiBbMTIuOTcyNDQyLDc3LjU4MDY0M10sCiAgICAgICAgICAgICAgICAgICAgICAgICAgICAgICAgICB6b29tOiAxMCwKICAgICAgICAgICAgICAgICAgICAgICAgICAgICAgICAgIG1heEJvdW5kczogYm91bmRzLAogICAgICAgICAgICAgICAgICAgICAgICAgICAgICAgICAgbGF5ZXJzOiBbXSwKICAgICAgICAgICAgICAgICAgICAgICAgICAgICAgICAgIHdvcmxkQ29weUp1bXA6IGZhbHNlLAogICAgICAgICAgICAgICAgICAgICAgICAgICAgICAgICAgY3JzOiBMLkNSUy5FUFNHMzg1NwogICAgICAgICAgICAgICAgICAgICAgICAgICAgICAgICB9KTsKICAgICAgICAgICAgCiAgICAgICAgCiAgICAKICAgICAgICAgICAgdmFyIHRpbGVfbGF5ZXJfY2QyYjZhYTBiNGRhNGZjY2E3OTE3OTRiODcwMzZjZTkgPSBMLnRpbGVMYXllcigKICAgICAgICAgICAgICAgICdodHRwczovL3tzfS50aWxlLm9wZW5zdHJlZXRtYXAub3JnL3t6fS97eH0ve3l9LnBuZycsCiAgICAgICAgICAgICAgICB7CiAgImF0dHJpYnV0aW9uIjogbnVsbCwKICAiZGV0ZWN0UmV0aW5hIjogZmFsc2UsCiAgIm1heFpvb20iOiAxOCwKICAibWluWm9vbSI6IDEsCiAgIm5vV3JhcCI6IGZhbHNlLAogICJzdWJkb21haW5zIjogImFiYyIKfQogICAgICAgICAgICAgICAgKS5hZGRUbyhtYXBfYjk3YzI5ZTVjNDEzNDA3ZTkzMjJjYzVlM2M3M2UyMGMpOwogICAgICAgIAogICAgCiAgICAgICAgICAgIHZhciBjaXJjbGVfbWFya2VyXzAyMzRkM2RkYzEwMDQ5YmJiODRhNGE2MTEwODQzZTg1ID0gTC5jaXJjbGVNYXJrZXIoCiAgICAgICAgICAgICAgICBbMTIuOTI1NDUzLDc3LjU0Njc2MV0sCiAgICAgICAgICAgICAgICB7CiAgImJ1YmJsaW5nTW91c2VFdmVudHMiOiB0cnVlLAogICJjb2xvciI6ICJibHVlIiwKICAiZGFzaEFycmF5IjogbnVsbCwKICAiZGFzaE9mZnNldCI6IG51bGwsCiAgImZpbGwiOiB0cnVlLAogICJmaWxsQ29sb3IiOiAiIzMxODZjYyIsCiAgImZpbGxPcGFjaXR5IjogMC43LAogICJmaWxsUnVsZSI6ICJldmVub2RkIiwKICAibGluZUNhcCI6ICJyb3VuZCIsCiAgImxpbmVKb2luIjogInJvdW5kIiwKICAib3BhY2l0eSI6IDEuMCwKICAicmFkaXVzIjogNSwKICAic3Ryb2tlIjogdHJ1ZSwKICAid2VpZ2h0IjogMwp9CiAgICAgICAgICAgICAgICApLmFkZFRvKG1hcF9iOTdjMjllNWM0MTM0MDdlOTMyMmNjNWUzYzczZTIwYyk7CiAgICAgICAgICAgIAogICAgCiAgICAgICAgICAgIHZhciBwb3B1cF9mNzMzMTcyNjRiNDk0OWY2YmFhODY3YWQ0OWFlNzVmMCA9IEwucG9wdXAoe21heFdpZHRoOiAnMzAwJ30pOwoKICAgICAgICAgICAgCiAgICAgICAgICAgICAgICB2YXIgaHRtbF84YzgwYzQ2OWY1ODk0ZmYwYTVkOTY2YjY5MDU3NWFhYyA9ICQoJzxkaXYgaWQ9Imh0bWxfOGM4MGM0NjlmNTg5NGZmMGE1ZDk2NmI2OTA1NzVhYWMiIHN0eWxlPSJ3aWR0aDogMTAwLjAlOyBoZWlnaHQ6IDEwMC4wJTsiPkJhbmFzaGFua2FyaTwvZGl2PicpWzBdOwogICAgICAgICAgICAgICAgcG9wdXBfZjczMzE3MjY0YjQ5NDlmNmJhYTg2N2FkNDlhZTc1ZjAuc2V0Q29udGVudChodG1sXzhjODBjNDY5ZjU4OTRmZjBhNWQ5NjZiNjkwNTc1YWFjKTsKICAgICAgICAgICAgCgogICAgICAgICAgICBjaXJjbGVfbWFya2VyXzAyMzRkM2RkYzEwMDQ5YmJiODRhNGE2MTEwODQzZTg1LmJpbmRQb3B1cChwb3B1cF9mNzMzMTcyNjRiNDk0OWY2YmFhODY3YWQ0OWFlNzVmMCk7CgogICAgICAgICAgICAKICAgICAgICAKICAgIAogICAgICAgICAgICB2YXIgY2lyY2xlX21hcmtlcl9kYjM2NTllODQ0Y2U0ZmNjOWVlNTNlNDY2YzJjMzVlOSA9IEwuY2lyY2xlTWFya2VyKAogICAgICAgICAgICAgICAgWzEyLjk0MjExNyw3Ny41NzUzNjFdLAogICAgICAgICAgICAgICAgewogICJidWJibGluZ01vdXNlRXZlbnRzIjogdHJ1ZSwKICAiY29sb3IiOiAiYmx1ZSIsCiAgImRhc2hBcnJheSI6IG51bGwsCiAgImRhc2hPZmZzZXQiOiBudWxsLAogICJmaWxsIjogdHJ1ZSwKICAiZmlsbENvbG9yIjogIiMzMTg2Y2MiLAogICJmaWxsT3BhY2l0eSI6IDAuNywKICAiZmlsbFJ1bGUiOiAiZXZlbm9kZCIsCiAgImxpbmVDYXAiOiAicm91bmQiLAogICJsaW5lSm9pbiI6ICJyb3VuZCIsCiAgIm9wYWNpdHkiOiAxLjAsCiAgInJhZGl1cyI6IDUsCiAgInN0cm9rZSI6IHRydWUsCiAgIndlaWdodCI6IDMKfQogICAgICAgICAgICAgICAgKS5hZGRUbyhtYXBfYjk3YzI5ZTVjNDEzNDA3ZTkzMjJjYzVlM2M3M2UyMGMpOwogICAgICAgICAgICAKICAgIAogICAgICAgICAgICB2YXIgcG9wdXBfYzY4YTYyZjNmZmY2NGFkYzhkNjRlMjA0NGFhYjIwOTUgPSBMLnBvcHVwKHttYXhXaWR0aDogJzMwMCd9KTsKCiAgICAgICAgICAgIAogICAgICAgICAgICAgICAgdmFyIGh0bWxfOGM2YTgzOTdjNjQ5NDE1ZTk1ZTZlNjI0Mjk4YTlkYmYgPSAkKCc8ZGl2IGlkPSJodG1sXzhjNmE4Mzk3YzY0OTQxNWU5NWU2ZTYyNDI5OGE5ZGJmIiBzdHlsZT0id2lkdGg6IDEwMC4wJTsgaGVpZ2h0OiAxMDAuMCU7Ij5CYXNhdmFuYWd1ZGk8L2Rpdj4nKVswXTsKICAgICAgICAgICAgICAgIHBvcHVwX2M2OGE2MmYzZmZmNjRhZGM4ZDY0ZTIwNDRhYWIyMDk1LnNldENvbnRlbnQoaHRtbF84YzZhODM5N2M2NDk0MTVlOTVlNmU2MjQyOThhOWRiZik7CiAgICAgICAgICAgIAoKICAgICAgICAgICAgY2lyY2xlX21hcmtlcl9kYjM2NTllODQ0Y2U0ZmNjOWVlNTNlNDY2YzJjMzVlOS5iaW5kUG9wdXAocG9wdXBfYzY4YTYyZjNmZmY2NGFkYzhkNjRlMjA0NGFhYjIwOTUpOwoKICAgICAgICAgICAgCiAgICAgICAgCiAgICAKICAgICAgICAgICAgdmFyIGNpcmNsZV9tYXJrZXJfZjI2ZWM3ZDhhYTY5NDU1Njk0NWE3ODBjYTkxMWE2ZDkgPSBMLmNpcmNsZU1hcmtlcigKICAgICAgICAgICAgICAgIFsxMy4wMzU3ODEsNzcuNTk3MDA4XSwKICAgICAgICAgICAgICAgIHsKICAiYnViYmxpbmdNb3VzZUV2ZW50cyI6IHRydWUsCiAgImNvbG9yIjogImJsdWUiLAogICJkYXNoQXJyYXkiOiBudWxsLAogICJkYXNoT2Zmc2V0IjogbnVsbCwKICAiZmlsbCI6IHRydWUsCiAgImZpbGxDb2xvciI6ICIjMzE4NmNjIiwKICAiZmlsbE9wYWNpdHkiOiAwLjcsCiAgImZpbGxSdWxlIjogImV2ZW5vZGQiLAogICJsaW5lQ2FwIjogInJvdW5kIiwKICAibGluZUpvaW4iOiAicm91bmQiLAogICJvcGFjaXR5IjogMS4wLAogICJyYWRpdXMiOiA1LAogICJzdHJva2UiOiB0cnVlLAogICJ3ZWlnaHQiOiAzCn0KICAgICAgICAgICAgICAgICkuYWRkVG8obWFwX2I5N2MyOWU1YzQxMzQwN2U5MzIyY2M1ZTNjNzNlMjBjKTsKICAgICAgICAgICAgCiAgICAKICAgICAgICAgICAgdmFyIHBvcHVwXzU3MDZhYWYzMWRiNjQ2MDlhMGRkOTg0MjYzZDY3ZWQyID0gTC5wb3B1cCh7bWF4V2lkdGg6ICczMDAnfSk7CgogICAgICAgICAgICAKICAgICAgICAgICAgICAgIHZhciBodG1sX2FiZjI5MTc5ODg1ZDQ0NjE4YzQ3Y2MwNGY4Zjk1NjY2ID0gJCgnPGRpdiBpZD0iaHRtbF9hYmYyOTE3OTg4NWQ0NDYxOGM0N2NjMDRmOGY5NTY2NiIgc3R5bGU9IndpZHRoOiAxMDAuMCU7IGhlaWdodDogMTAwLjAlOyI+SGViYmFsPC9kaXY+JylbMF07CiAgICAgICAgICAgICAgICBwb3B1cF81NzA2YWFmMzFkYjY0NjA5YTBkZDk4NDI2M2Q2N2VkMi5zZXRDb250ZW50KGh0bWxfYWJmMjkxNzk4ODVkNDQ2MThjNDdjYzA0ZjhmOTU2NjYpOwogICAgICAgICAgICAKCiAgICAgICAgICAgIGNpcmNsZV9tYXJrZXJfZjI2ZWM3ZDhhYTY5NDU1Njk0NWE3ODBjYTkxMWE2ZDkuYmluZFBvcHVwKHBvcHVwXzU3MDZhYWYzMWRiNjQ2MDlhMGRkOTg0MjYzZDY3ZWQyKTsKCiAgICAgICAgICAgIAogICAgICAgIAogICAgCiAgICAgICAgICAgIHZhciBjaXJjbGVfbWFya2VyXzViYzIxMWUzMzE1YjRlNGE4Y2NhNjJiNGZkYzY4Y2MyID0gTC5jaXJjbGVNYXJrZXIoCiAgICAgICAgICAgICAgICBbMTIuOTcxODkxLDc3LjY0MTE1MV0sCiAgICAgICAgICAgICAgICB7CiAgImJ1YmJsaW5nTW91c2VFdmVudHMiOiB0cnVlLAogICJjb2xvciI6ICJibHVlIiwKICAiZGFzaEFycmF5IjogbnVsbCwKICAiZGFzaE9mZnNldCI6IG51bGwsCiAgImZpbGwiOiB0cnVlLAogICJmaWxsQ29sb3IiOiAiIzMxODZjYyIsCiAgImZpbGxPcGFjaXR5IjogMC43LAogICJmaWxsUnVsZSI6ICJldmVub2RkIiwKICAibGluZUNhcCI6ICJyb3VuZCIsCiAgImxpbmVKb2luIjogInJvdW5kIiwKICAib3BhY2l0eSI6IDEuMCwKICAicmFkaXVzIjogNSwKICAic3Ryb2tlIjogdHJ1ZSwKICAid2VpZ2h0IjogMwp9CiAgICAgICAgICAgICAgICApLmFkZFRvKG1hcF9iOTdjMjllNWM0MTM0MDdlOTMyMmNjNWUzYzczZTIwYyk7CiAgICAgICAgICAgIAogICAgCiAgICAgICAgICAgIHZhciBwb3B1cF8xNmUxNDUwMGFmYTY0ZWU0ODAxOTZkMWNlZjgwNzZhMCA9IEwucG9wdXAoe21heFdpZHRoOiAnMzAwJ30pOwoKICAgICAgICAgICAgCiAgICAgICAgICAgICAgICB2YXIgaHRtbF82OGMwYmIzYzQxOGQ0ZTI4ODk4ZmQxOTA1YTcxNjY4ZSA9ICQoJzxkaXYgaWQ9Imh0bWxfNjhjMGJiM2M0MThkNGUyODg5OGZkMTkwNWE3MTY2OGUiIHN0eWxlPSJ3aWR0aDogMTAwLjAlOyBoZWlnaHQ6IDEwMC4wJTsiPkluZGlyYSBOYWdhcjwvZGl2PicpWzBdOwogICAgICAgICAgICAgICAgcG9wdXBfMTZlMTQ1MDBhZmE2NGVlNDgwMTk2ZDFjZWY4MDc2YTAuc2V0Q29udGVudChodG1sXzY4YzBiYjNjNDE4ZDRlMjg4OThmZDE5MDVhNzE2NjhlKTsKICAgICAgICAgICAgCgogICAgICAgICAgICBjaXJjbGVfbWFya2VyXzViYzIxMWUzMzE1YjRlNGE4Y2NhNjJiNGZkYzY4Y2MyLmJpbmRQb3B1cChwb3B1cF8xNmUxNDUwMGFmYTY0ZWU0ODAxOTZkMWNlZjgwNzZhMCk7CgogICAgICAgICAgICAKICAgICAgICAKICAgIAogICAgICAgICAgICB2YXIgY2lyY2xlX21hcmtlcl84OWI5YmY3YjZiZDA0N2JlYTUzODU3MWIyYTAzYTk0MCA9IEwuY2lyY2xlTWFya2VyKAogICAgICAgICAgICAgICAgWzEyLjkyNzUwMSw3Ny41ODI3NzRdLAogICAgICAgICAgICAgICAgewogICJidWJibGluZ01vdXNlRXZlbnRzIjogdHJ1ZSwKICAiY29sb3IiOiAiYmx1ZSIsCiAgImRhc2hBcnJheSI6IG51bGwsCiAgImRhc2hPZmZzZXQiOiBudWxsLAogICJmaWxsIjogdHJ1ZSwKICAiZmlsbENvbG9yIjogIiMzMTg2Y2MiLAogICJmaWxsT3BhY2l0eSI6IDAuNywKICAiZmlsbFJ1bGUiOiAiZXZlbm9kZCIsCiAgImxpbmVDYXAiOiAicm91bmQiLAogICJsaW5lSm9pbiI6ICJyb3VuZCIsCiAgIm9wYWNpdHkiOiAxLjAsCiAgInJhZGl1cyI6IDUsCiAgInN0cm9rZSI6IHRydWUsCiAgIndlaWdodCI6IDMKfQogICAgICAgICAgICAgICAgKS5hZGRUbyhtYXBfYjk3YzI5ZTVjNDEzNDA3ZTkzMjJjYzVlM2M3M2UyMGMpOwogICAgICAgICAgICAKICAgIAogICAgICAgICAgICB2YXIgcG9wdXBfNjBjNjY1OGRiNDU5NDViMGJkYWNhNzhjMWU0ZmUxMjQgPSBMLnBvcHVwKHttYXhXaWR0aDogJzMwMCd9KTsKCiAgICAgICAgICAgIAogICAgICAgICAgICAgICAgdmFyIGh0bWxfNTM3NzVlZTZhOWVmNDE3NGE1Zjg1OTUyNDdhZDUzYjUgPSAkKCc8ZGl2IGlkPSJodG1sXzUzNzc1ZWU2YTllZjQxNzRhNWY4NTk1MjQ3YWQ1M2I1IiBzdHlsZT0id2lkdGg6IDEwMC4wJTsgaGVpZ2h0OiAxMDAuMCU7Ij5KYXlhbmFnYXI8L2Rpdj4nKVswXTsKICAgICAgICAgICAgICAgIHBvcHVwXzYwYzY2NThkYjQ1OTQ1YjBiZGFjYTc4YzFlNGZlMTI0LnNldENvbnRlbnQoaHRtbF81Mzc3NWVlNmE5ZWY0MTc0YTVmODU5NTI0N2FkNTNiNSk7CiAgICAgICAgICAgIAoKICAgICAgICAgICAgY2lyY2xlX21hcmtlcl84OWI5YmY3YjZiZDA0N2JlYTUzODU3MWIyYTAzYTk0MC5iaW5kUG9wdXAocG9wdXBfNjBjNjY1OGRiNDU5NDViMGJkYWNhNzhjMWU0ZmUxMjQpOwoKICAgICAgICAgICAgCiAgICAgICAgCiAgICAKICAgICAgICAgICAgdmFyIGNpcmNsZV9tYXJrZXJfMzZkNTFmZmE4MDBjNDFlZWE0OGQ0ODI0YjJlNDcwYTggPSBMLmNpcmNsZU1hcmtlcigKICAgICAgICAgICAgICAgIFsxMi45MzQ1MzMsNzcuNjI2NTc5XSwKICAgICAgICAgICAgICAgIHsKICAiYnViYmxpbmdNb3VzZUV2ZW50cyI6IHRydWUsCiAgImNvbG9yIjogImJsdWUiLAogICJkYXNoQXJyYXkiOiBudWxsLAogICJkYXNoT2Zmc2V0IjogbnVsbCwKICAiZmlsbCI6IHRydWUsCiAgImZpbGxDb2xvciI6ICIjMzE4NmNjIiwKICAiZmlsbE9wYWNpdHkiOiAwLjcsCiAgImZpbGxSdWxlIjogImV2ZW5vZGQiLAogICJsaW5lQ2FwIjogInJvdW5kIiwKICAibGluZUpvaW4iOiAicm91bmQiLAogICJvcGFjaXR5IjogMS4wLAogICJyYWRpdXMiOiA1LAogICJzdHJva2UiOiB0cnVlLAogICJ3ZWlnaHQiOiAzCn0KICAgICAgICAgICAgICAgICkuYWRkVG8obWFwX2I5N2MyOWU1YzQxMzQwN2U5MzIyY2M1ZTNjNzNlMjBjKTsKICAgICAgICAgICAgCiAgICAKICAgICAgICAgICAgdmFyIHBvcHVwX2JiMDk2ZGEyMjdlYTQyMzY4YTJhYzQ1Zjc1NzNjOGExID0gTC5wb3B1cCh7bWF4V2lkdGg6ICczMDAnfSk7CgogICAgICAgICAgICAKICAgICAgICAgICAgICAgIHZhciBodG1sXzEwZGE4NmViNTEyZjRiYjQ4MTJlMWVjMjRhZGE2NDM5ID0gJCgnPGRpdiBpZD0iaHRtbF8xMGRhODZlYjUxMmY0YmI0ODEyZTFlYzI0YWRhNjQzOSIgc3R5bGU9IndpZHRoOiAxMDAuMCU7IGhlaWdodDogMTAwLjAlOyI+S29yYW1hbmdhbGE8L2Rpdj4nKVswXTsKICAgICAgICAgICAgICAgIHBvcHVwX2JiMDk2ZGEyMjdlYTQyMzY4YTJhYzQ1Zjc1NzNjOGExLnNldENvbnRlbnQoaHRtbF8xMGRhODZlYjUxMmY0YmI0ODEyZTFlYzI0YWRhNjQzOSk7CiAgICAgICAgICAgIAoKICAgICAgICAgICAgY2lyY2xlX21hcmtlcl8zNmQ1MWZmYTgwMGM0MWVlYTQ4ZDQ4MjRiMmU0NzBhOC5iaW5kUG9wdXAocG9wdXBfYmIwOTZkYTIyN2VhNDIzNjhhMmFjNDVmNzU3M2M4YTEpOwoKICAgICAgICAgICAgCiAgICAgICAgCiAgICAKICAgICAgICAgICAgdmFyIGNpcmNsZV9tYXJrZXJfYTYyMjA2NGRhZjEwNGJlODgzMjg3OTJkNDdhNDAxY2QgPSBMLmNpcmNsZU1hcmtlcigKICAgICAgICAgICAgICAgIFsxMy4wMDU0NTksNzcuNTY5MTk5XSwKICAgICAgICAgICAgICAgIHsKICAiYnViYmxpbmdNb3VzZUV2ZW50cyI6IHRydWUsCiAgImNvbG9yIjogImJsdWUiLAogICJkYXNoQXJyYXkiOiBudWxsLAogICJkYXNoT2Zmc2V0IjogbnVsbCwKICAiZmlsbCI6IHRydWUsCiAgImZpbGxDb2xvciI6ICIjMzE4NmNjIiwKICAiZmlsbE9wYWNpdHkiOiAwLjcsCiAgImZpbGxSdWxlIjogImV2ZW5vZGQiLAogICJsaW5lQ2FwIjogInJvdW5kIiwKICAibGluZUpvaW4iOiAicm91bmQiLAogICJvcGFjaXR5IjogMS4wLAogICJyYWRpdXMiOiA1LAogICJzdHJva2UiOiB0cnVlLAogICJ3ZWlnaHQiOiAzCn0KICAgICAgICAgICAgICAgICkuYWRkVG8obWFwX2I5N2MyOWU1YzQxMzQwN2U5MzIyY2M1ZTNjNzNlMjBjKTsKICAgICAgICAgICAgCiAgICAKICAgICAgICAgICAgdmFyIHBvcHVwXzNkYjdmMDgxMmQwZTQxYTVhNzIyYTgwNWJlM2MwM2VjID0gTC5wb3B1cCh7bWF4V2lkdGg6ICczMDAnfSk7CgogICAgICAgICAgICAKICAgICAgICAgICAgICAgIHZhciBodG1sX2Y1MzIxMjY2MTVkYjRmYzZiNjc4M2U3NGMzMzA4MzViID0gJCgnPGRpdiBpZD0iaHRtbF9mNTMyMTI2NjE1ZGI0ZmM2YjY3ODNlNzRjMzMwODM1YiIgc3R5bGU9IndpZHRoOiAxMDAuMCU7IGhlaWdodDogMTAwLjAlOyI+TWFsbGVzaHdhcmFtPC9kaXY+JylbMF07CiAgICAgICAgICAgICAgICBwb3B1cF8zZGI3ZjA4MTJkMGU0MWE1YTcyMmE4MDViZTNjMDNlYy5zZXRDb250ZW50KGh0bWxfZjUzMjEyNjYxNWRiNGZjNmI2NzgzZTc0YzMzMDgzNWIpOwogICAgICAgICAgICAKCiAgICAgICAgICAgIGNpcmNsZV9tYXJrZXJfYTYyMjA2NGRhZjEwNGJlODgzMjg3OTJkNDdhNDAxY2QuYmluZFBvcHVwKHBvcHVwXzNkYjdmMDgxMmQwZTQxYTVhNzIyYTgwNWJlM2MwM2VjKTsKCiAgICAgICAgICAgIAogICAgICAgIAogICAgCiAgICAgICAgICAgIHZhciBjaXJjbGVfbWFya2VyXzE5NTJiNjliOGQzMzQ4NzZiNzQwZmRhMDkwNjUwODE4ID0gTC5jaXJjbGVNYXJrZXIoCiAgICAgICAgICAgICAgICBbMTIuOTUxODQ1LDc3LjY5OTU3N10sCiAgICAgICAgICAgICAgICB7CiAgImJ1YmJsaW5nTW91c2VFdmVudHMiOiB0cnVlLAogICJjb2xvciI6ICJibHVlIiwKICAiZGFzaEFycmF5IjogbnVsbCwKICAiZGFzaE9mZnNldCI6IG51bGwsCiAgImZpbGwiOiB0cnVlLAogICJmaWxsQ29sb3IiOiAiIzMxODZjYyIsCiAgImZpbGxPcGFjaXR5IjogMC43LAogICJmaWxsUnVsZSI6ICJldmVub2RkIiwKICAibGluZUNhcCI6ICJyb3VuZCIsCiAgImxpbmVKb2luIjogInJvdW5kIiwKICAib3BhY2l0eSI6IDEuMCwKICAicmFkaXVzIjogNSwKICAic3Ryb2tlIjogdHJ1ZSwKICAid2VpZ2h0IjogMwp9CiAgICAgICAgICAgICAgICApLmFkZFRvKG1hcF9iOTdjMjllNWM0MTM0MDdlOTMyMmNjNWUzYzczZTIwYyk7CiAgICAgICAgICAgIAogICAgCiAgICAgICAgICAgIHZhciBwb3B1cF8zNjhkNTJmNDI2NTc0YWUzYWYyYmQxNzhhYTA3MmQyZiA9IEwucG9wdXAoe21heFdpZHRoOiAnMzAwJ30pOwoKICAgICAgICAgICAgCiAgICAgICAgICAgICAgICB2YXIgaHRtbF9mZmVkNGM4YjQ2ZTc0OGNjYjUxOGM2MWE4ZTljYWJlYiA9ICQoJzxkaXYgaWQ9Imh0bWxfZmZlZDRjOGI0NmU3NDhjY2I1MThjNjFhOGU5Y2FiZWIiIHN0eWxlPSJ3aWR0aDogMTAwLjAlOyBoZWlnaHQ6IDEwMC4wJTsiPk1hcmF0aGFoYWxsaTwvZGl2PicpWzBdOwogICAgICAgICAgICAgICAgcG9wdXBfMzY4ZDUyZjQyNjU3NGFlM2FmMmJkMTc4YWEwNzJkMmYuc2V0Q29udGVudChodG1sX2ZmZWQ0YzhiNDZlNzQ4Y2NiNTE4YzYxYThlOWNhYmViKTsKICAgICAgICAgICAgCgogICAgICAgICAgICBjaXJjbGVfbWFya2VyXzE5NTJiNjliOGQzMzQ4NzZiNzQwZmRhMDkwNjUwODE4LmJpbmRQb3B1cChwb3B1cF8zNjhkNTJmNDI2NTc0YWUzYWYyYmQxNzhhYTA3MmQyZik7CgogICAgICAgICAgICAKICAgICAgICAKICAgIAogICAgICAgICAgICB2YXIgY2lyY2xlX21hcmtlcl9iNzI4YjAxYTYyZDM0OWIyOWEzZWZmMjJjNjI0NTZhYiA9IEwuY2lyY2xlTWFya2VyKAogICAgICAgICAgICAgICAgWzEyLjk3NTUsNzcuNjE4Ml0sCiAgICAgICAgICAgICAgICB7CiAgImJ1YmJsaW5nTW91c2VFdmVudHMiOiB0cnVlLAogICJjb2xvciI6ICJibHVlIiwKICAiZGFzaEFycmF5IjogbnVsbCwKICAiZGFzaE9mZnNldCI6IG51bGwsCiAgImZpbGwiOiB0cnVlLAogICJmaWxsQ29sb3IiOiAiIzMxODZjYyIsCiAgImZpbGxPcGFjaXR5IjogMC43LAogICJmaWxsUnVsZSI6ICJldmVub2RkIiwKICAibGluZUNhcCI6ICJyb3VuZCIsCiAgImxpbmVKb2luIjogInJvdW5kIiwKICAib3BhY2l0eSI6IDEuMCwKICAicmFkaXVzIjogNSwKICAic3Ryb2tlIjogdHJ1ZSwKICAid2VpZ2h0IjogMwp9CiAgICAgICAgICAgICAgICApLmFkZFRvKG1hcF9iOTdjMjllNWM0MTM0MDdlOTMyMmNjNWUzYzczZTIwYyk7CiAgICAgICAgICAgIAogICAgCiAgICAgICAgICAgIHZhciBwb3B1cF8yZjdkYzgxYWUzYjg0OWMzYmM2NWU5MmRkNmY2M2JlYiA9IEwucG9wdXAoe21heFdpZHRoOiAnMzAwJ30pOwoKICAgICAgICAgICAgCiAgICAgICAgICAgICAgICB2YXIgaHRtbF9mNGRmYTQwNzBmNjY0MzkxYjk1MmZlMWVmMzY5MTE0NyA9ICQoJzxkaXYgaWQ9Imh0bWxfZjRkZmE0MDcwZjY2NDM5MWI5NTJmZTFlZjM2OTExNDciIHN0eWxlPSJ3aWR0aDogMTAwLjAlOyBoZWlnaHQ6IDEwMC4wJTsiPlVsc29vcjwvZGl2PicpWzBdOwogICAgICAgICAgICAgICAgcG9wdXBfMmY3ZGM4MWFlM2I4NDljM2JjNjVlOTJkZDZmNjNiZWIuc2V0Q29udGVudChodG1sX2Y0ZGZhNDA3MGY2NjQzOTFiOTUyZmUxZWYzNjkxMTQ3KTsKICAgICAgICAgICAgCgogICAgICAgICAgICBjaXJjbGVfbWFya2VyX2I3MjhiMDFhNjJkMzQ5YjI5YTNlZmYyMmM2MjQ1NmFiLmJpbmRQb3B1cChwb3B1cF8yZjdkYzgxYWUzYjg0OWMzYmM2NWU5MmRkNmY2M2JlYik7CgogICAgICAgICAgICAKICAgICAgICAKICAgIAogICAgICAgICAgICB2YXIgY2lyY2xlX21hcmtlcl83YTU0ZTA1NGZjYmU0NTBmYTNmMmNmYzU5NDY3MjQ1OCA9IEwuY2lyY2xlTWFya2VyKAogICAgICAgICAgICAgICAgWzEyLjk3MTM4OSw3Ny43NTAxM10sCiAgICAgICAgICAgICAgICB7CiAgImJ1YmJsaW5nTW91c2VFdmVudHMiOiB0cnVlLAogICJjb2xvciI6ICJibHVlIiwKICAiZGFzaEFycmF5IjogbnVsbCwKICAiZGFzaE9mZnNldCI6IG51bGwsCiAgImZpbGwiOiB0cnVlLAogICJmaWxsQ29sb3IiOiAiIzMxODZjYyIsCiAgImZpbGxPcGFjaXR5IjogMC43LAogICJmaWxsUnVsZSI6ICJldmVub2RkIiwKICAibGluZUNhcCI6ICJyb3VuZCIsCiAgImxpbmVKb2luIjogInJvdW5kIiwKICAib3BhY2l0eSI6IDEuMCwKICAicmFkaXVzIjogNSwKICAic3Ryb2tlIjogdHJ1ZSwKICAid2VpZ2h0IjogMwp9CiAgICAgICAgICAgICAgICApLmFkZFRvKG1hcF9iOTdjMjllNWM0MTM0MDdlOTMyMmNjNWUzYzczZTIwYyk7CiAgICAgICAgICAgIAogICAgCiAgICAgICAgICAgIHZhciBwb3B1cF85OTkxOGRiMzc1YjQ0NGMyYTEyOGM4ZjI5Y2M3NDRlNiA9IEwucG9wdXAoe21heFdpZHRoOiAnMzAwJ30pOwoKICAgICAgICAgICAgCiAgICAgICAgICAgICAgICB2YXIgaHRtbF82MWYwODRjMjdlZGE0YTQ3OWRmNjdiNjMxZjE1NTY0OCA9ICQoJzxkaXYgaWQ9Imh0bWxfNjFmMDg0YzI3ZWRhNGE0NzlkZjY3YjYzMWYxNTU2NDgiIHN0eWxlPSJ3aWR0aDogMTAwLjAlOyBoZWlnaHQ6IDEwMC4wJTsiPldoaXRlZmllbGQ8L2Rpdj4nKVswXTsKICAgICAgICAgICAgICAgIHBvcHVwXzk5OTE4ZGIzNzViNDQ0YzJhMTI4YzhmMjljYzc0NGU2LnNldENvbnRlbnQoaHRtbF82MWYwODRjMjdlZGE0YTQ3OWRmNjdiNjMxZjE1NTY0OCk7CiAgICAgICAgICAgIAoKICAgICAgICAgICAgY2lyY2xlX21hcmtlcl83YTU0ZTA1NGZjYmU0NTBmYTNmMmNmYzU5NDY3MjQ1OC5iaW5kUG9wdXAocG9wdXBfOTk5MThkYjM3NWI0NDRjMmExMjhjOGYyOWNjNzQ0ZTYpOwoKICAgICAgICAgICAgCiAgICAgICAgCjwvc2NyaXB0Pg==\" style=\"position:absolute;width:100%;height:100%;left:0;top:0;border:none !important;\" allowfullscreen webkitallowfullscreen mozallowfullscreen></iframe></div></div>"
      ],
      "text/plain": [
       "<folium.folium.Map at 0x7f007cfdb828>"
      ]
     },
     "execution_count": 4,
     "metadata": {},
     "output_type": "execute_result"
    }
   ],
   "source": [
    "# create map of New York using latitude and longitude values\n",
    "map_Bangalore = folium.Map(location=[latitude, longitude], zoom_start=10)\n",
    "\n",
    "# add markers to map\n",
    "for lat, lng, area in zip(df['Latitude'], df['Longitude'], df['Area Name']):\n",
    "    label = '{}'.format(area)\n",
    "    label = folium.Popup(label, parse_html=True)\n",
    "    folium.CircleMarker(\n",
    "        [lat, lng],\n",
    "        radius=5,\n",
    "        popup=label,\n",
    "        color='blue',\n",
    "        fill=True,\n",
    "        fill_color='#3186cc',\n",
    "        fill_opacity=0.7,\n",
    "        parse_html=False).add_to(map_Bangalore)  \n",
    "    \n",
    "map_Bangalore"
   ]
  },
  {
   "cell_type": "markdown",
   "metadata": {},
   "source": [
    "#### Define Foursquare Credentials and Version"
   ]
  },
  {
   "cell_type": "code",
   "execution_count": 5,
   "metadata": {
    "collapsed": false,
    "jupyter": {
     "outputs_hidden": false
    }
   },
   "outputs": [
    {
     "name": "stdout",
     "output_type": "stream",
     "text": [
      "Your credentails:\n",
      "CLIENT_ID: 3R5GJXVD3XMG4UAA2LXHGJIXNOFG25YRDYX02QDHX1FQLTJ5\n",
      "CLIENT_SECRET:DIYWI53QULXGIMP4UBL340AA5DP3RWS3GSXASQRANUMYJB1V\n"
     ]
    }
   ],
   "source": [
    "CLIENT_ID = '3R5GJXVD3XMG4UAA2LXHGJIXNOFG25YRDYX02QDHX1FQLTJ5' # your Foursquare ID\n",
    "CLIENT_SECRET = 'DIYWI53QULXGIMP4UBL340AA5DP3RWS3GSXASQRANUMYJB1V' # your Foursquare Secret\n",
    "VERSION = '20180605' # Foursquare API version\n",
    "\n",
    "print('Your credentails:')\n",
    "print('CLIENT_ID: ' + CLIENT_ID)\n",
    "print('CLIENT_SECRET:' + CLIENT_SECRET)"
   ]
  },
  {
   "cell_type": "markdown",
   "metadata": {},
   "source": [
    "#### Let's explore the first Area in our dataframe."
   ]
  },
  {
   "cell_type": "markdown",
   "metadata": {},
   "source": [
    "Get the neighborhood's name."
   ]
  },
  {
   "cell_type": "markdown",
   "metadata": {},
   "source": [
    "Get the neighborhood's latitude and longitude values."
   ]
  },
  {
   "cell_type": "code",
   "execution_count": 6,
   "metadata": {
    "collapsed": false,
    "jupyter": {
     "outputs_hidden": false
    }
   },
   "outputs": [
    {
     "name": "stdout",
     "output_type": "stream",
     "text": [
      "Latitude and longitude values of Indira Nagar are 12.971891, 77.641151.\n"
     ]
    }
   ],
   "source": [
    "Area_latitude = df.loc[0, 'Latitude'] # Area latitude value\n",
    "Area_longitude = df.loc[0, 'Longitude'] # Area longitude value\n",
    "\n",
    "Area_name = df.loc[0, 'Area Name'] # Area name\n",
    "\n",
    "print('Latitude and longitude values of {} are {}, {}.'.format(Area_name, \n",
    "                                                               Area_latitude, \n",
    "                                                               Area_longitude))"
   ]
  },
  {
   "cell_type": "markdown",
   "metadata": {},
   "source": [
    "#### Now, let's get the top 100 venues that are in Indira Nagar within a radius of 5000 meters."
   ]
  },
  {
   "cell_type": "markdown",
   "metadata": {},
   "source": [
    "First, let's create the GET request URL. Name your URL **url**."
   ]
  },
  {
   "cell_type": "code",
   "execution_count": 7,
   "metadata": {
    "collapsed": false,
    "jupyter": {
     "outputs_hidden": false
    },
    "scrolled": true
   },
   "outputs": [
    {
     "data": {
      "text/plain": [
       "'https://api.foursquare.com/v2/venues/explore?&client_id=3R5GJXVD3XMG4UAA2LXHGJIXNOFG25YRDYX02QDHX1FQLTJ5&client_secret=DIYWI53QULXGIMP4UBL340AA5DP3RWS3GSXASQRANUMYJB1V&v=20180605&ll=12.971891,77.641151&radius=5000&limit=100'"
      ]
     },
     "execution_count": 7,
     "metadata": {},
     "output_type": "execute_result"
    }
   ],
   "source": [
    "# type your answer here\n",
    "LIMIT = 100\n",
    "radius = 5000\n",
    "url = 'https://api.foursquare.com/v2/venues/explore?&client_id={}&client_secret={}&v={}&ll={},{}&radius={}&limit={}'.format(\n",
    "    CLIENT_ID, \n",
    "    CLIENT_SECRET, \n",
    "    VERSION, \n",
    "    Area_latitude, \n",
    "    Area_longitude, \n",
    "    radius, \n",
    "    LIMIT)\n",
    "url\n"
   ]
  },
  {
   "cell_type": "markdown",
   "metadata": {},
   "source": [
    "Double-click __here__ for the solution.\n",
    "<!-- The correct answer is:\n",
    "LIMIT = 100 # limit of number of venues returned by Foursquare API\n",
    "-->\n",
    "\n",
    "<!--\n",
    "radius = 500 # define radius\n",
    "-->\n",
    "\n",
    "<!--\n",
    "\\\\ # create URL\n",
    "url = 'https://api.foursquare.com/v2/venues/explore?&client_id={}&client_secret={}&v={}&ll={},{}&radius={}&limit={}'.format(\n",
    "    CLIENT_ID, \n",
    "    CLIENT_SECRET, \n",
    "    VERSION, \n",
    "    neighborhood_latitude, \n",
    "    neighborhood_longitude, \n",
    "    radius, \n",
    "    LIMIT)\n",
    "url # display URL\n",
    "--> "
   ]
  },
  {
   "cell_type": "markdown",
   "metadata": {},
   "source": [
    "Send the GET request and examine the resutls"
   ]
  },
  {
   "cell_type": "code",
   "execution_count": 8,
   "metadata": {
    "collapsed": false,
    "jupyter": {
     "outputs_hidden": false
    }
   },
   "outputs": [],
   "source": [
    "results = requests.get(url).json()\n",
    "#results"
   ]
  },
  {
   "cell_type": "markdown",
   "metadata": {},
   "source": [
    "From the Foursquare lab in the previous module, we know that all the information is in the *items* key. Before we proceed, let's borrow the **get_category_type** function from the Foursquare lab."
   ]
  },
  {
   "cell_type": "code",
   "execution_count": 9,
   "metadata": {},
   "outputs": [],
   "source": [
    "# function that extracts the category of the venue\n",
    "def get_category_type(row):\n",
    "    try:\n",
    "        categories_list = row['categories']\n",
    "    except:\n",
    "        categories_list = row['venue.categories']\n",
    "        \n",
    "    if len(categories_list) == 0:\n",
    "        return None\n",
    "    else:\n",
    "        return categories_list[0]['name']"
   ]
  },
  {
   "cell_type": "markdown",
   "metadata": {},
   "source": [
    "Now we are ready to clean the json and structure it into a *pandas* dataframe."
   ]
  },
  {
   "cell_type": "code",
   "execution_count": 10,
   "metadata": {
    "collapsed": false,
    "jupyter": {
     "outputs_hidden": false
    }
   },
   "outputs": [
    {
     "data": {
      "text/html": [
       "<div>\n",
       "<style scoped>\n",
       "    .dataframe tbody tr th:only-of-type {\n",
       "        vertical-align: middle;\n",
       "    }\n",
       "\n",
       "    .dataframe tbody tr th {\n",
       "        vertical-align: top;\n",
       "    }\n",
       "\n",
       "    .dataframe thead th {\n",
       "        text-align: right;\n",
       "    }\n",
       "</style>\n",
       "<table border=\"1\" class=\"dataframe\">\n",
       "  <thead>\n",
       "    <tr style=\"text-align: right;\">\n",
       "      <th></th>\n",
       "      <th>name</th>\n",
       "      <th>categories</th>\n",
       "      <th>lat</th>\n",
       "      <th>lng</th>\n",
       "    </tr>\n",
       "  </thead>\n",
       "  <tbody>\n",
       "    <tr>\n",
       "      <th>0</th>\n",
       "      <td>Corner House</td>\n",
       "      <td>Ice Cream Shop</td>\n",
       "      <td>12.969973</td>\n",
       "      <td>77.637453</td>\n",
       "    </tr>\n",
       "    <tr>\n",
       "      <th>1</th>\n",
       "      <td>Vero Moda</td>\n",
       "      <td>Boutique</td>\n",
       "      <td>12.972808</td>\n",
       "      <td>77.641225</td>\n",
       "    </tr>\n",
       "    <tr>\n",
       "      <th>2</th>\n",
       "      <td>Bodycraft</td>\n",
       "      <td>Spa</td>\n",
       "      <td>12.968497</td>\n",
       "      <td>77.641289</td>\n",
       "    </tr>\n",
       "    <tr>\n",
       "      <th>3</th>\n",
       "      <td>Toit Brewpub</td>\n",
       "      <td>Brewery</td>\n",
       "      <td>12.979367</td>\n",
       "      <td>77.640702</td>\n",
       "    </tr>\n",
       "    <tr>\n",
       "      <th>4</th>\n",
       "      <td>The Fatty Bao</td>\n",
       "      <td>Asian Restaurant</td>\n",
       "      <td>12.970430</td>\n",
       "      <td>77.645103</td>\n",
       "    </tr>\n",
       "  </tbody>\n",
       "</table>\n",
       "</div>"
      ],
      "text/plain": [
       "            name        categories        lat        lng\n",
       "0   Corner House    Ice Cream Shop  12.969973  77.637453\n",
       "1      Vero Moda          Boutique  12.972808  77.641225\n",
       "2      Bodycraft               Spa  12.968497  77.641289\n",
       "3   Toit Brewpub           Brewery  12.979367  77.640702\n",
       "4  The Fatty Bao  Asian Restaurant  12.970430  77.645103"
      ]
     },
     "execution_count": 10,
     "metadata": {},
     "output_type": "execute_result"
    }
   ],
   "source": [
    "venues = results['response']['groups'][0]['items']\n",
    "    \n",
    "nearby_venues = json_normalize(venues) # flatten JSON\n",
    "\n",
    "# filter columns\n",
    "filtered_columns = ['venue.name', 'venue.categories', 'venue.location.lat', 'venue.location.lng']\n",
    "nearby_venues =nearby_venues.loc[:, filtered_columns]\n",
    "\n",
    "# filter the category for each row\n",
    "nearby_venues['venue.categories'] = nearby_venues.apply(get_category_type, axis=1)\n",
    "#nearby_venues.head()\n",
    "# clean columns\n",
    "nearby_venues.columns = [col.split(\".\")[-1] for col in nearby_venues.columns]\n",
    "\n",
    "nearby_venues.head()"
   ]
  },
  {
   "cell_type": "markdown",
   "metadata": {},
   "source": [
    "And how many venues were returned by Foursquare?"
   ]
  },
  {
   "cell_type": "code",
   "execution_count": 11,
   "metadata": {
    "collapsed": false,
    "jupyter": {
     "outputs_hidden": false
    }
   },
   "outputs": [
    {
     "name": "stdout",
     "output_type": "stream",
     "text": [
      "100 venues were returned by Foursquare.\n"
     ]
    }
   ],
   "source": [
    "print('{} venues were returned by Foursquare.'.format(nearby_venues.shape[0]))"
   ]
  },
  {
   "cell_type": "markdown",
   "metadata": {},
   "source": [
    "<a id='item2'></a>"
   ]
  },
  {
   "cell_type": "markdown",
   "metadata": {},
   "source": [
    "## 2. Explore Neighborhoods in Bangalore"
   ]
  },
  {
   "cell_type": "markdown",
   "metadata": {},
   "source": [
    "#### Let's create a function to repeat the same process to all the neighborhoods in Manhattan"
   ]
  },
  {
   "cell_type": "code",
   "execution_count": 12,
   "metadata": {},
   "outputs": [],
   "source": [
    "def getNearbyVenues(names, latitudes, longitudes, radius=5000):\n",
    "    LIMIT = 100\n",
    "    venues_list=[]\n",
    "    for name, lat, lng in zip(names, latitudes, longitudes):\n",
    "        # create the API request URL\n",
    "        url = 'https://api.foursquare.com/v2/venues/explore?&client_id={}&client_secret={}&v={}&ll={},{}&radius={}&limit={}'.format(\n",
    "            CLIENT_ID, \n",
    "            CLIENT_SECRET, \n",
    "            VERSION, \n",
    "            lat, \n",
    "            lng, \n",
    "            radius, \n",
    "            LIMIT)\n",
    "\n",
    "        # make the GET request\n",
    "        results = requests.get(url).json()[\"response\"]['groups'][0]['items']\n",
    "\n",
    "        # return only relevant information for each nearby venue\n",
    "        venues_list.append([(\n",
    "            name, \n",
    "            lat, \n",
    "            lng, \n",
    "            v['venue']['name'], \n",
    "            v['venue']['location']['lat'], \n",
    "            v['venue']['location']['lng'],  \n",
    "            v['venue']['categories'][0]['name'],\n",
    "            getHighLevelCategory(v['venue']['categories'][0]['name'])) for v in results])\n",
    "\n",
    "        nearby_venues = pd.DataFrame([item for venue_list in venues_list for item in venue_list])\n",
    "        nearby_venues.columns = ['Area', \n",
    "                      'Area Latitude', \n",
    "                      'Area Longitude', \n",
    "                      'Venue', \n",
    "                      'Venue Latitude', \n",
    "                      'Venue Longitude', \n",
    "                      'Venue Category',\n",
    "                      'Venue Main Category']\n",
    "    \n",
    "    return(nearby_venues)"
   ]
  },
  {
   "cell_type": "code",
   "execution_count": 13,
   "metadata": {},
   "outputs": [],
   "source": [
    "def getHighLevelCategory(CatName):\n",
    "    HighCategory = 'Other'\n",
    "    if any(name.lower() in CatName.lower() for name in ['Restaurant','Pizza','Ice Cream','Hotel', \n",
    "        'Donut','Dessert','Coffee','Breakfast','Bakery','BBQ','Creperie','Sandwich','Donut','Chicken','cake','Chocolate','Burger','Snack',\n",
    "                                                        'Tea','Deli / Bodega','Diner','Sweet','Bistro','Butcher']):\n",
    "        HighCategory = 'Food'\n",
    "    elif any(name.lower() in CatName.lower() for name in ['Brewery','Bar','Wine','Lounge','Pub','Club','Cafe','Café','Burrito']):\n",
    "        HighCategory = 'Bar'\n",
    "    elif any(name.lower() in CatName.lower() for name in ['Soccer','Gym','Fitness','Bowling','Yoga','Cricket','Golf','Recreation','racetrack','Sport']):\n",
    "        HighCategory = 'Game'\n",
    "    elif any(name.lower() in CatName.lower() for name in ['Art Gallery','Concert','Performing Arts Venue']):\n",
    "        HighCategory = 'Arts'\n",
    "    elif any(name.lower() in CatName.lower() for name in ['Theater','Multiplex']):\n",
    "        HighCategory = 'Movie'\n",
    "    elif any(name.lower() in CatName.lower() for name in ['Salon','Shopping','Store','Market','Plaza','Mobile Phone Shop','Gas Station']):\n",
    "        HighCategory = 'Basic/Shopping needs'\n",
    "    elif any(name.lower() in CatName.lower() for name in ['Boutique','Spa']):\n",
    "        HighCategory = 'Fancy needs'\n",
    "    elif any(name.lower() in CatName.lower() for name in ['Office','Arcade','Trail']):\n",
    "        HighCategory = 'Work'\n",
    "    elif any(name.lower() in CatName.lower() for name in ['Park','Neighborhood','Gard','garden','Museum','Resort','Monument','Landmark','Lake','Field','Building']):\n",
    "        HighCategory = 'Calm Place'\n",
    "    elif any(name.lower() in CatName.lower() for name in ['Motorcycle']):\n",
    "        HighCategory = 'Big Need shops'\n",
    "        \n",
    "        \n",
    "    return(HighCategory)"
   ]
  },
  {
   "cell_type": "markdown",
   "metadata": {},
   "source": [
    "#### Now write the code to run the above function on each neighborhood and create a new dataframe called *Bangalore_venues*."
   ]
  },
  {
   "cell_type": "code",
   "execution_count": 14,
   "metadata": {
    "collapsed": false,
    "jupyter": {
     "outputs_hidden": false
    },
    "scrolled": true
   },
   "outputs": [],
   "source": [
    "# type your answer here\n",
    "['Area Name', 'Latitude','Longitude']\n",
    "All_area_venues = getNearbyVenues(names=df['Area Name'],\n",
    "                                   latitudes=df['Latitude'],\n",
    "                                   longitudes=df['Longitude']\n",
    "                                  )"
   ]
  },
  {
   "cell_type": "markdown",
   "metadata": {},
   "source": [
    "Double-click __here__ for the solution.\n",
    "<!-- The correct answer is:\n",
    "manhattan_venues = getNearbyVenues(names=manhattan_data['Neighborhood'],\n",
    "                                   latitudes=manhattan_data['Latitude'],\n",
    "                                   longitudes=manhattan_data['Longitude']\n",
    "                                  )\n",
    "--> "
   ]
  },
  {
   "cell_type": "markdown",
   "metadata": {},
   "source": [
    "#### Let's check the size of the resulting dataframe"
   ]
  },
  {
   "cell_type": "code",
   "execution_count": 15,
   "metadata": {
    "collapsed": false,
    "jupyter": {
     "outputs_hidden": false
    }
   },
   "outputs": [
    {
     "name": "stdout",
     "output_type": "stream",
     "text": [
      "(1000, 8)\n"
     ]
    },
    {
     "data": {
      "text/html": [
       "<div>\n",
       "<style scoped>\n",
       "    .dataframe tbody tr th:only-of-type {\n",
       "        vertical-align: middle;\n",
       "    }\n",
       "\n",
       "    .dataframe tbody tr th {\n",
       "        vertical-align: top;\n",
       "    }\n",
       "\n",
       "    .dataframe thead th {\n",
       "        text-align: right;\n",
       "    }\n",
       "</style>\n",
       "<table border=\"1\" class=\"dataframe\">\n",
       "  <thead>\n",
       "    <tr style=\"text-align: right;\">\n",
       "      <th></th>\n",
       "      <th>Area</th>\n",
       "      <th>Area Latitude</th>\n",
       "      <th>Area Longitude</th>\n",
       "      <th>Venue</th>\n",
       "      <th>Venue Latitude</th>\n",
       "      <th>Venue Longitude</th>\n",
       "      <th>Venue Category</th>\n",
       "      <th>Venue Main Category</th>\n",
       "    </tr>\n",
       "  </thead>\n",
       "  <tbody>\n",
       "    <tr>\n",
       "      <th>52</th>\n",
       "      <td>Banashankari</td>\n",
       "      <td>12.925453</td>\n",
       "      <td>77.546761</td>\n",
       "      <td>Helios</td>\n",
       "      <td>12.938120</td>\n",
       "      <td>77.585151</td>\n",
       "      <td>Shop &amp; Service</td>\n",
       "      <td>Other</td>\n",
       "    </tr>\n",
       "    <tr>\n",
       "      <th>122</th>\n",
       "      <td>Basavanagudi</td>\n",
       "      <td>12.942117</td>\n",
       "      <td>77.575361</td>\n",
       "      <td>Helios</td>\n",
       "      <td>12.938120</td>\n",
       "      <td>77.585151</td>\n",
       "      <td>Shop &amp; Service</td>\n",
       "      <td>Other</td>\n",
       "    </tr>\n",
       "    <tr>\n",
       "      <th>432</th>\n",
       "      <td>Jayanagar</td>\n",
       "      <td>12.927501</td>\n",
       "      <td>77.582774</td>\n",
       "      <td>Helios</td>\n",
       "      <td>12.938120</td>\n",
       "      <td>77.585151</td>\n",
       "      <td>Shop &amp; Service</td>\n",
       "      <td>Other</td>\n",
       "    </tr>\n",
       "    <tr>\n",
       "      <th>999</th>\n",
       "      <td>Whitefield</td>\n",
       "      <td>12.971389</td>\n",
       "      <td>77.750130</td>\n",
       "      <td>Kartik's Mithai Shoppe</td>\n",
       "      <td>12.979221</td>\n",
       "      <td>77.751439</td>\n",
       "      <td>Chaat Place</td>\n",
       "      <td>Other</td>\n",
       "    </tr>\n",
       "  </tbody>\n",
       "</table>\n",
       "</div>"
      ],
      "text/plain": [
       "             Area  Area Latitude  Area Longitude                   Venue  \\\n",
       "52   Banashankari      12.925453       77.546761                  Helios   \n",
       "122  Basavanagudi      12.942117       77.575361                  Helios   \n",
       "432     Jayanagar      12.927501       77.582774                  Helios   \n",
       "999    Whitefield      12.971389       77.750130  Kartik's Mithai Shoppe   \n",
       "\n",
       "     Venue Latitude  Venue Longitude  Venue Category Venue Main Category  \n",
       "52        12.938120        77.585151  Shop & Service               Other  \n",
       "122       12.938120        77.585151  Shop & Service               Other  \n",
       "432       12.938120        77.585151  Shop & Service               Other  \n",
       "999       12.979221        77.751439     Chaat Place               Other  "
      ]
     },
     "execution_count": 15,
     "metadata": {},
     "output_type": "execute_result"
    }
   ],
   "source": [
    "print(All_area_venues.shape)\n",
    "#Indira_nagar_venues.head()\n",
    "All_area_venues[All_area_venues['Venue Main Category'] == 'Other']"
   ]
  },
  {
   "cell_type": "markdown",
   "metadata": {},
   "source": [
    "Let's check how many venues were returned for each neighborhood"
   ]
  },
  {
   "cell_type": "markdown",
   "metadata": {},
   "source": [
    "#### Let's find out how many unique categories can be curated from all the returned venues"
   ]
  },
  {
   "cell_type": "code",
   "execution_count": 16,
   "metadata": {
    "collapsed": false,
    "jupyter": {
     "outputs_hidden": false
    }
   },
   "outputs": [
    {
     "name": "stdout",
     "output_type": "stream",
     "text": [
      "There are 125 uniques categories.\n"
     ]
    }
   ],
   "source": [
    "print('There are {} uniques categories.'.format(len(All_area_venues['Venue Category'].unique())))"
   ]
  },
  {
   "cell_type": "code",
   "execution_count": 17,
   "metadata": {},
   "outputs": [
    {
     "name": "stdout",
     "output_type": "stream",
     "text": [
      "There are 11 uniques categories.\n"
     ]
    }
   ],
   "source": [
    "print('There are {} uniques categories.'.format(len(All_area_venues['Venue Main Category'].unique())))"
   ]
  },
  {
   "cell_type": "markdown",
   "metadata": {},
   "source": [
    "<a id='item3'></a>"
   ]
  },
  {
   "cell_type": "markdown",
   "metadata": {},
   "source": [
    "## 3. Analyze Each Neighborhood"
   ]
  },
  {
   "cell_type": "code",
   "execution_count": 18,
   "metadata": {
    "collapsed": false,
    "jupyter": {
     "outputs_hidden": false
    }
   },
   "outputs": [
    {
     "data": {
      "text/html": [
       "<div>\n",
       "<style scoped>\n",
       "    .dataframe tbody tr th:only-of-type {\n",
       "        vertical-align: middle;\n",
       "    }\n",
       "\n",
       "    .dataframe tbody tr th {\n",
       "        vertical-align: top;\n",
       "    }\n",
       "\n",
       "    .dataframe thead th {\n",
       "        text-align: right;\n",
       "    }\n",
       "</style>\n",
       "<table border=\"1\" class=\"dataframe\">\n",
       "  <thead>\n",
       "    <tr style=\"text-align: right;\">\n",
       "      <th></th>\n",
       "      <th>Area</th>\n",
       "      <th>Afghan Restaurant</th>\n",
       "      <th>American Restaurant</th>\n",
       "      <th>Andhra Restaurant</th>\n",
       "      <th>Art Gallery</th>\n",
       "      <th>Asian Restaurant</th>\n",
       "      <th>Athletics &amp; Sports</th>\n",
       "      <th>BBQ Joint</th>\n",
       "      <th>Bakery</th>\n",
       "      <th>Bar</th>\n",
       "      <th>...</th>\n",
       "      <th>Thai Restaurant</th>\n",
       "      <th>Theater</th>\n",
       "      <th>Toy / Game Store</th>\n",
       "      <th>Trail</th>\n",
       "      <th>Udupi Restaurant</th>\n",
       "      <th>Vegetarian / Vegan Restaurant</th>\n",
       "      <th>Vietnamese Restaurant</th>\n",
       "      <th>Wine Shop</th>\n",
       "      <th>Women's Store</th>\n",
       "      <th>Yoga Studio</th>\n",
       "    </tr>\n",
       "  </thead>\n",
       "  <tbody>\n",
       "    <tr>\n",
       "      <th>0</th>\n",
       "      <td>Banashankari</td>\n",
       "      <td>0</td>\n",
       "      <td>0</td>\n",
       "      <td>0</td>\n",
       "      <td>0</td>\n",
       "      <td>0</td>\n",
       "      <td>0</td>\n",
       "      <td>0</td>\n",
       "      <td>0</td>\n",
       "      <td>0</td>\n",
       "      <td>...</td>\n",
       "      <td>0</td>\n",
       "      <td>0</td>\n",
       "      <td>0</td>\n",
       "      <td>0</td>\n",
       "      <td>0</td>\n",
       "      <td>0</td>\n",
       "      <td>0</td>\n",
       "      <td>0</td>\n",
       "      <td>0</td>\n",
       "      <td>0</td>\n",
       "    </tr>\n",
       "    <tr>\n",
       "      <th>1</th>\n",
       "      <td>Banashankari</td>\n",
       "      <td>0</td>\n",
       "      <td>0</td>\n",
       "      <td>0</td>\n",
       "      <td>0</td>\n",
       "      <td>0</td>\n",
       "      <td>0</td>\n",
       "      <td>0</td>\n",
       "      <td>0</td>\n",
       "      <td>0</td>\n",
       "      <td>...</td>\n",
       "      <td>0</td>\n",
       "      <td>0</td>\n",
       "      <td>0</td>\n",
       "      <td>0</td>\n",
       "      <td>0</td>\n",
       "      <td>0</td>\n",
       "      <td>0</td>\n",
       "      <td>0</td>\n",
       "      <td>0</td>\n",
       "      <td>0</td>\n",
       "    </tr>\n",
       "    <tr>\n",
       "      <th>2</th>\n",
       "      <td>Banashankari</td>\n",
       "      <td>0</td>\n",
       "      <td>0</td>\n",
       "      <td>0</td>\n",
       "      <td>0</td>\n",
       "      <td>0</td>\n",
       "      <td>0</td>\n",
       "      <td>0</td>\n",
       "      <td>0</td>\n",
       "      <td>0</td>\n",
       "      <td>...</td>\n",
       "      <td>0</td>\n",
       "      <td>0</td>\n",
       "      <td>0</td>\n",
       "      <td>0</td>\n",
       "      <td>0</td>\n",
       "      <td>0</td>\n",
       "      <td>0</td>\n",
       "      <td>0</td>\n",
       "      <td>0</td>\n",
       "      <td>0</td>\n",
       "    </tr>\n",
       "    <tr>\n",
       "      <th>3</th>\n",
       "      <td>Banashankari</td>\n",
       "      <td>0</td>\n",
       "      <td>0</td>\n",
       "      <td>0</td>\n",
       "      <td>0</td>\n",
       "      <td>0</td>\n",
       "      <td>0</td>\n",
       "      <td>0</td>\n",
       "      <td>1</td>\n",
       "      <td>0</td>\n",
       "      <td>...</td>\n",
       "      <td>0</td>\n",
       "      <td>0</td>\n",
       "      <td>0</td>\n",
       "      <td>0</td>\n",
       "      <td>0</td>\n",
       "      <td>0</td>\n",
       "      <td>0</td>\n",
       "      <td>0</td>\n",
       "      <td>0</td>\n",
       "      <td>0</td>\n",
       "    </tr>\n",
       "    <tr>\n",
       "      <th>4</th>\n",
       "      <td>Banashankari</td>\n",
       "      <td>0</td>\n",
       "      <td>0</td>\n",
       "      <td>0</td>\n",
       "      <td>0</td>\n",
       "      <td>0</td>\n",
       "      <td>0</td>\n",
       "      <td>0</td>\n",
       "      <td>0</td>\n",
       "      <td>0</td>\n",
       "      <td>...</td>\n",
       "      <td>0</td>\n",
       "      <td>0</td>\n",
       "      <td>0</td>\n",
       "      <td>0</td>\n",
       "      <td>0</td>\n",
       "      <td>0</td>\n",
       "      <td>0</td>\n",
       "      <td>0</td>\n",
       "      <td>0</td>\n",
       "      <td>0</td>\n",
       "    </tr>\n",
       "  </tbody>\n",
       "</table>\n",
       "<p>5 rows × 126 columns</p>\n",
       "</div>"
      ],
      "text/plain": [
       "           Area  Afghan Restaurant  American Restaurant  Andhra Restaurant  \\\n",
       "0  Banashankari                  0                    0                  0   \n",
       "1  Banashankari                  0                    0                  0   \n",
       "2  Banashankari                  0                    0                  0   \n",
       "3  Banashankari                  0                    0                  0   \n",
       "4  Banashankari                  0                    0                  0   \n",
       "\n",
       "   Art Gallery  Asian Restaurant  Athletics & Sports  BBQ Joint  Bakery  Bar  \\\n",
       "0            0                 0                   0          0       0    0   \n",
       "1            0                 0                   0          0       0    0   \n",
       "2            0                 0                   0          0       0    0   \n",
       "3            0                 0                   0          0       1    0   \n",
       "4            0                 0                   0          0       0    0   \n",
       "\n",
       "   ...  Thai Restaurant  Theater  Toy / Game Store  Trail  Udupi Restaurant  \\\n",
       "0  ...                0        0                 0      0                 0   \n",
       "1  ...                0        0                 0      0                 0   \n",
       "2  ...                0        0                 0      0                 0   \n",
       "3  ...                0        0                 0      0                 0   \n",
       "4  ...                0        0                 0      0                 0   \n",
       "\n",
       "   Vegetarian / Vegan Restaurant  Vietnamese Restaurant  Wine Shop  \\\n",
       "0                              0                      0          0   \n",
       "1                              0                      0          0   \n",
       "2                              0                      0          0   \n",
       "3                              0                      0          0   \n",
       "4                              0                      0          0   \n",
       "\n",
       "   Women's Store  Yoga Studio  \n",
       "0              0            0  \n",
       "1              0            0  \n",
       "2              0            0  \n",
       "3              0            0  \n",
       "4              0            0  \n",
       "\n",
       "[5 rows x 126 columns]"
      ]
     },
     "execution_count": 18,
     "metadata": {},
     "output_type": "execute_result"
    }
   ],
   "source": [
    "# one hot encoding\n",
    "Bangalore_onehot = pd.get_dummies(All_area_venues[['Venue Category']], prefix=\"\", prefix_sep=\"\")\n",
    "\n",
    "# add neighborhood column back to dataframe\n",
    "Bangalore_onehot['Area'] = All_area_venues['Area'] \n",
    "\n",
    "# move neighborhood column to the first column\n",
    "fixed_columns = [Bangalore_onehot.columns[-1]] + list(Bangalore_onehot.columns[:-1])\n",
    "Bangalore_onehot = Bangalore_onehot[fixed_columns]\n",
    "\n",
    "Bangalore_onehot.head()"
   ]
  },
  {
   "cell_type": "code",
   "execution_count": 19,
   "metadata": {},
   "outputs": [
    {
     "data": {
      "text/html": [
       "<div>\n",
       "<style scoped>\n",
       "    .dataframe tbody tr th:only-of-type {\n",
       "        vertical-align: middle;\n",
       "    }\n",
       "\n",
       "    .dataframe tbody tr th {\n",
       "        vertical-align: top;\n",
       "    }\n",
       "\n",
       "    .dataframe thead th {\n",
       "        text-align: right;\n",
       "    }\n",
       "</style>\n",
       "<table border=\"1\" class=\"dataframe\">\n",
       "  <thead>\n",
       "    <tr style=\"text-align: right;\">\n",
       "      <th></th>\n",
       "      <th>Area</th>\n",
       "      <th>Arts</th>\n",
       "      <th>Bar</th>\n",
       "      <th>Basic/Shopping needs</th>\n",
       "      <th>Big Need shops</th>\n",
       "      <th>Calm Place</th>\n",
       "      <th>Fancy needs</th>\n",
       "      <th>Food</th>\n",
       "      <th>Game</th>\n",
       "      <th>Movie</th>\n",
       "      <th>Other</th>\n",
       "      <th>Work</th>\n",
       "    </tr>\n",
       "  </thead>\n",
       "  <tbody>\n",
       "    <tr>\n",
       "      <th>0</th>\n",
       "      <td>Banashankari</td>\n",
       "      <td>0</td>\n",
       "      <td>0</td>\n",
       "      <td>0</td>\n",
       "      <td>0</td>\n",
       "      <td>0</td>\n",
       "      <td>0</td>\n",
       "      <td>1</td>\n",
       "      <td>0</td>\n",
       "      <td>0</td>\n",
       "      <td>0</td>\n",
       "      <td>0</td>\n",
       "    </tr>\n",
       "    <tr>\n",
       "      <th>1</th>\n",
       "      <td>Banashankari</td>\n",
       "      <td>0</td>\n",
       "      <td>0</td>\n",
       "      <td>0</td>\n",
       "      <td>0</td>\n",
       "      <td>0</td>\n",
       "      <td>0</td>\n",
       "      <td>1</td>\n",
       "      <td>0</td>\n",
       "      <td>0</td>\n",
       "      <td>0</td>\n",
       "      <td>0</td>\n",
       "    </tr>\n",
       "    <tr>\n",
       "      <th>2</th>\n",
       "      <td>Banashankari</td>\n",
       "      <td>0</td>\n",
       "      <td>0</td>\n",
       "      <td>0</td>\n",
       "      <td>0</td>\n",
       "      <td>0</td>\n",
       "      <td>0</td>\n",
       "      <td>1</td>\n",
       "      <td>0</td>\n",
       "      <td>0</td>\n",
       "      <td>0</td>\n",
       "      <td>0</td>\n",
       "    </tr>\n",
       "    <tr>\n",
       "      <th>3</th>\n",
       "      <td>Banashankari</td>\n",
       "      <td>0</td>\n",
       "      <td>0</td>\n",
       "      <td>0</td>\n",
       "      <td>0</td>\n",
       "      <td>0</td>\n",
       "      <td>0</td>\n",
       "      <td>1</td>\n",
       "      <td>0</td>\n",
       "      <td>0</td>\n",
       "      <td>0</td>\n",
       "      <td>0</td>\n",
       "    </tr>\n",
       "    <tr>\n",
       "      <th>4</th>\n",
       "      <td>Banashankari</td>\n",
       "      <td>0</td>\n",
       "      <td>1</td>\n",
       "      <td>0</td>\n",
       "      <td>0</td>\n",
       "      <td>0</td>\n",
       "      <td>0</td>\n",
       "      <td>0</td>\n",
       "      <td>0</td>\n",
       "      <td>0</td>\n",
       "      <td>0</td>\n",
       "      <td>0</td>\n",
       "    </tr>\n",
       "  </tbody>\n",
       "</table>\n",
       "</div>"
      ],
      "text/plain": [
       "           Area  Arts  Bar  Basic/Shopping needs  Big Need shops  Calm Place  \\\n",
       "0  Banashankari     0    0                     0               0           0   \n",
       "1  Banashankari     0    0                     0               0           0   \n",
       "2  Banashankari     0    0                     0               0           0   \n",
       "3  Banashankari     0    0                     0               0           0   \n",
       "4  Banashankari     0    1                     0               0           0   \n",
       "\n",
       "   Fancy needs  Food  Game  Movie  Other  Work  \n",
       "0            0     1     0      0      0     0  \n",
       "1            0     1     0      0      0     0  \n",
       "2            0     1     0      0      0     0  \n",
       "3            0     1     0      0      0     0  \n",
       "4            0     0     0      0      0     0  "
      ]
     },
     "execution_count": 19,
     "metadata": {},
     "output_type": "execute_result"
    }
   ],
   "source": [
    "# one hot encoding\n",
    "Bangalore_Mainonehot = pd.get_dummies(All_area_venues[['Venue Main Category']], prefix=\"\", prefix_sep=\"\")\n",
    "\n",
    "# add neighborhood column back to dataframe\n",
    "Bangalore_Mainonehot['Area'] = All_area_venues['Area'] \n",
    "\n",
    "# move neighborhood column to the first column\n",
    "fixed_columns = [Bangalore_Mainonehot.columns[-1]] + list(Bangalore_Mainonehot.columns[:-1])\n",
    "Bangalore_Mainonehot = Bangalore_Mainonehot[fixed_columns]\n",
    "\n",
    "Bangalore_Mainonehot.head()"
   ]
  },
  {
   "cell_type": "markdown",
   "metadata": {},
   "source": [
    "And let's examine the new dataframe size."
   ]
  },
  {
   "cell_type": "code",
   "execution_count": 20,
   "metadata": {
    "collapsed": false,
    "jupyter": {
     "outputs_hidden": false
    }
   },
   "outputs": [
    {
     "data": {
      "text/plain": [
       "(1000, 126)"
      ]
     },
     "execution_count": 20,
     "metadata": {},
     "output_type": "execute_result"
    }
   ],
   "source": [
    "Bangalore_onehot.shape"
   ]
  },
  {
   "cell_type": "code",
   "execution_count": 21,
   "metadata": {},
   "outputs": [
    {
     "data": {
      "text/plain": [
       "(1000, 12)"
      ]
     },
     "execution_count": 21,
     "metadata": {},
     "output_type": "execute_result"
    }
   ],
   "source": [
    "Bangalore_Mainonehot.shape"
   ]
  },
  {
   "cell_type": "code",
   "execution_count": 22,
   "metadata": {},
   "outputs": [
    {
     "name": "stdout",
     "output_type": "stream",
     "text": [
      "Decision tree model saved to bamboo_tree!\n"
     ]
    }
   ],
   "source": [
    "# select subset of cuisines\n",
    "Feature_selected_list = Bangalore_Mainonehot[Bangalore_Mainonehot.Area.isin([\"Banashankari\", \"Basavanagudi\", \"Hebbal\", \"Whitefield\", \"Malleshwaram\"])]\n",
    "Areas = Feature_selected_list[\"Area\"]\n",
    "crterias = Feature_selected_list.iloc[:,1:]\n",
    "\n",
    "bamboo_tree = tree.DecisionTreeClassifier(max_depth=6)\n",
    "bamboo_tree.fit(crterias, Areas)\n",
    "\n",
    "print(\"Decision tree model saved to bamboo_tree!\")"
   ]
  },
  {
   "cell_type": "code",
   "execution_count": 23,
   "metadata": {},
   "outputs": [
    {
     "ename": "SyntaxError",
     "evalue": "EOL while scanning string literal (<ipython-input-23-cbbb1273ae4d>, line 1)",
     "output_type": "error",
     "traceback": [
      "\u001b[0;36m  File \u001b[0;32m\"<ipython-input-23-cbbb1273ae4d>\"\u001b[0;36m, line \u001b[0;32m1\u001b[0m\n\u001b[0;31m    Let's plot the decision tree and examine how it looks like.\u001b[0m\n\u001b[0m                                                               ^\u001b[0m\n\u001b[0;31mSyntaxError\u001b[0m\u001b[0;31m:\u001b[0m EOL while scanning string literal\n"
     ]
    }
   ],
   "source": [
    "Let's plot the decision tree and examine how it looks like."
   ]
  },
  {
   "cell_type": "code",
   "execution_count": 24,
   "metadata": {},
   "outputs": [
    {
     "data": {
      "image/svg+xml": [
       "<?xml version=\"1.0\" encoding=\"UTF-8\" standalone=\"no\"?>\n",
       "<!DOCTYPE svg PUBLIC \"-//W3C//DTD SVG 1.1//EN\"\n",
       " \"http://www.w3.org/Graphics/SVG/1.1/DTD/svg11.dtd\">\n",
       "<!-- Generated by graphviz version 2.40.1 (20161225.0304)\n",
       " -->\n",
       "<!-- Title: Tree Pages: 1 -->\n",
       "<svg width=\"944pt\" height=\"790pt\"\n",
       " viewBox=\"0.00 0.00 943.50 790.00\" xmlns=\"http://www.w3.org/2000/svg\" xmlns:xlink=\"http://www.w3.org/1999/xlink\">\n",
       "<g id=\"graph0\" class=\"graph\" transform=\"scale(1 1) rotate(0) translate(4 786)\">\n",
       "<title>Tree</title>\n",
       "<polygon fill=\"#ffffff\" stroke=\"transparent\" points=\"-4,4 -4,-786 939.5,-786 939.5,4 -4,4\"/>\n",
       "<!-- 0 -->\n",
       "<g id=\"node1\" class=\"node\">\n",
       "<title>0</title>\n",
       "<polygon fill=\"transparent\" stroke=\"#000000\" points=\"874.5,-782 617.5,-782 617.5,-699 874.5,-699 874.5,-782\"/>\n",
       "<text text-anchor=\"start\" x=\"715.5\" y=\"-766.8\" font-family=\"Times,serif\" font-size=\"14.00\" fill=\"#000000\">node #0</text>\n",
       "<text text-anchor=\"start\" x=\"683.5\" y=\"-751.8\" font-family=\"Times,serif\" font-size=\"14.00\" fill=\"#000000\">Calm Place ≤ 0.5</text>\n",
       "<text text-anchor=\"start\" x=\"692.5\" y=\"-736.8\" font-family=\"Times,serif\" font-size=\"14.00\" fill=\"#000000\">samples = 500</text>\n",
       "<text text-anchor=\"start\" x=\"625.5\" y=\"-721.8\" font-family=\"Times,serif\" font-size=\"14.00\" fill=\"#000000\">value = [100, 100, 100, 100, 100]</text>\n",
       "<text text-anchor=\"start\" x=\"668\" y=\"-706.8\" font-family=\"Times,serif\" font-size=\"14.00\" fill=\"#000000\">class = Banashankari</text>\n",
       "</g>\n",
       "<!-- 1 -->\n",
       "<g id=\"node2\" class=\"node\">\n",
       "<title>1</title>\n",
       "<polygon fill=\"#e539c0\" fill-opacity=\"0.003922\" stroke=\"#000000\" points=\"750.5,-663 529.5,-663 529.5,-580 750.5,-580 750.5,-663\"/>\n",
       "<text text-anchor=\"start\" x=\"609.5\" y=\"-647.8\" font-family=\"Times,serif\" font-size=\"14.00\" fill=\"#000000\">node #1</text>\n",
       "<text text-anchor=\"start\" x=\"597.5\" y=\"-632.8\" font-family=\"Times,serif\" font-size=\"14.00\" fill=\"#000000\">Game ≤ 0.5</text>\n",
       "<text text-anchor=\"start\" x=\"586.5\" y=\"-617.8\" font-family=\"Times,serif\" font-size=\"14.00\" fill=\"#000000\">samples = 485</text>\n",
       "<text text-anchor=\"start\" x=\"537.5\" y=\"-602.8\" font-family=\"Times,serif\" font-size=\"14.00\" fill=\"#000000\">value = [98, 96, 93, 98, 100]</text>\n",
       "<text text-anchor=\"start\" x=\"574\" y=\"-587.8\" font-family=\"Times,serif\" font-size=\"14.00\" fill=\"#000000\">class = Whitefield</text>\n",
       "</g>\n",
       "<!-- 0&#45;&gt;1 -->\n",
       "<g id=\"edge1\" class=\"edge\">\n",
       "<title>0&#45;&gt;1</title>\n",
       "<path fill=\"none\" stroke=\"#000000\" d=\"M708.9263,-698.8796C700.9039,-689.8733 692.3448,-680.2644 684.0833,-670.9897\"/>\n",
       "<polygon fill=\"#000000\" stroke=\"#000000\" points=\"686.4969,-668.4373 677.2319,-663.2981 681.2698,-673.0933 686.4969,-668.4373\"/>\n",
       "<text text-anchor=\"middle\" x=\"675.7899\" y=\"-684.5564\" font-family=\"Times,serif\" font-size=\"14.00\" fill=\"#000000\">True</text>\n",
       "</g>\n",
       "<!-- 12 -->\n",
       "<g id=\"node13\" class=\"node\">\n",
       "<title>12</title>\n",
       "<polygon fill=\"#39e5c5\" fill-opacity=\"0.274510\" stroke=\"#000000\" points=\"935.5,-655.5 768.5,-655.5 768.5,-587.5 935.5,-587.5 935.5,-655.5\"/>\n",
       "<text text-anchor=\"start\" x=\"817\" y=\"-640.3\" font-family=\"Times,serif\" font-size=\"14.00\" fill=\"#000000\">node #12</text>\n",
       "<text text-anchor=\"start\" x=\"803\" y=\"-625.3\" font-family=\"Times,serif\" font-size=\"14.00\" fill=\"#000000\">samples = 15</text>\n",
       "<text text-anchor=\"start\" x=\"776.5\" y=\"-610.3\" font-family=\"Times,serif\" font-size=\"14.00\" fill=\"#000000\">value = [2, 4, 7, 2, 0]</text>\n",
       "<text text-anchor=\"start\" x=\"797.5\" y=\"-595.3\" font-family=\"Times,serif\" font-size=\"14.00\" fill=\"#000000\">class = Hebbal</text>\n",
       "</g>\n",
       "<!-- 0&#45;&gt;12 -->\n",
       "<g id=\"edge12\" class=\"edge\">\n",
       "<title>0&#45;&gt;12</title>\n",
       "<path fill=\"none\" stroke=\"#000000\" d=\"M783.0737,-698.8796C793.2603,-687.4436 804.3122,-675.0363 814.5215,-663.575\"/>\n",
       "<polygon fill=\"#000000\" stroke=\"#000000\" points=\"817.3958,-665.6101 821.4338,-655.8149 812.1688,-660.9541 817.3958,-665.6101\"/>\n",
       "<text text-anchor=\"middle\" x=\"822.8758\" y=\"-677.0733\" font-family=\"Times,serif\" font-size=\"14.00\" fill=\"#000000\">False</text>\n",
       "</g>\n",
       "<!-- 2 -->\n",
       "<g id=\"node3\" class=\"node\">\n",
       "<title>2</title>\n",
       "<polygon fill=\"#e58139\" fill-opacity=\"0.003922\" stroke=\"#000000\" points=\"639,-544 427,-544 427,-461 639,-461 639,-544\"/>\n",
       "<text text-anchor=\"start\" x=\"502.5\" y=\"-528.8\" font-family=\"Times,serif\" font-size=\"14.00\" fill=\"#000000\">node #2</text>\n",
       "<text text-anchor=\"start\" x=\"489\" y=\"-513.8\" font-family=\"Times,serif\" font-size=\"14.00\" fill=\"#000000\">Movie ≤ 0.5</text>\n",
       "<text text-anchor=\"start\" x=\"479.5\" y=\"-498.8\" font-family=\"Times,serif\" font-size=\"14.00\" fill=\"#000000\">samples = 466</text>\n",
       "<text text-anchor=\"start\" x=\"435\" y=\"-483.8\" font-family=\"Times,serif\" font-size=\"14.00\" fill=\"#000000\">value = [97, 93, 91, 90, 95]</text>\n",
       "<text text-anchor=\"start\" x=\"455\" y=\"-468.8\" font-family=\"Times,serif\" font-size=\"14.00\" fill=\"#000000\">class = Banashankari</text>\n",
       "</g>\n",
       "<!-- 1&#45;&gt;2 -->\n",
       "<g id=\"edge2\" class=\"edge\">\n",
       "<title>1&#45;&gt;2</title>\n",
       "<path fill=\"none\" stroke=\"#000000\" d=\"M602.5766,-579.8796C594.4785,-570.8733 585.8386,-561.2644 577.4991,-551.9897\"/>\n",
       "<polygon fill=\"#000000\" stroke=\"#000000\" points=\"579.872,-549.394 570.5831,-544.2981 574.6667,-554.0743 579.872,-549.394\"/>\n",
       "</g>\n",
       "<!-- 11 -->\n",
       "<g id=\"node12\" class=\"node\">\n",
       "<title>11</title>\n",
       "<polygon fill=\"#3c39e5\" fill-opacity=\"0.215686\" stroke=\"#000000\" points=\"836.5,-536.5 657.5,-536.5 657.5,-468.5 836.5,-468.5 836.5,-536.5\"/>\n",
       "<text text-anchor=\"start\" x=\"712\" y=\"-521.3\" font-family=\"Times,serif\" font-size=\"14.00\" fill=\"#000000\">node #11</text>\n",
       "<text text-anchor=\"start\" x=\"698\" y=\"-506.3\" font-family=\"Times,serif\" font-size=\"14.00\" fill=\"#000000\">samples = 19</text>\n",
       "<text text-anchor=\"start\" x=\"671.5\" y=\"-491.3\" font-family=\"Times,serif\" font-size=\"14.00\" fill=\"#000000\">value = [1, 3, 2, 8, 5]</text>\n",
       "<text text-anchor=\"start\" x=\"665.5\" y=\"-476.3\" font-family=\"Times,serif\" font-size=\"14.00\" fill=\"#000000\">class = Malleshwaram</text>\n",
       "</g>\n",
       "<!-- 1&#45;&gt;11 -->\n",
       "<g id=\"edge11\" class=\"edge\">\n",
       "<title>1&#45;&gt;11</title>\n",
       "<path fill=\"none\" stroke=\"#000000\" d=\"M677.4234,-579.8796C687.7061,-568.4436 698.8623,-556.0363 709.1679,-544.575\"/>\n",
       "<polygon fill=\"#000000\" stroke=\"#000000\" points=\"712.0618,-546.5912 716.1454,-536.8149 706.8565,-541.9108 712.0618,-546.5912\"/>\n",
       "</g>\n",
       "<!-- 3 -->\n",
       "<g id=\"node4\" class=\"node\">\n",
       "<title>3</title>\n",
       "<polygon fill=\"#e58139\" fill-opacity=\"0.015686\" stroke=\"#000000\" points=\"532,-425 320,-425 320,-342 532,-342 532,-425\"/>\n",
       "<text text-anchor=\"start\" x=\"395.5\" y=\"-409.8\" font-family=\"Times,serif\" font-size=\"14.00\" fill=\"#000000\">node #3</text>\n",
       "<text text-anchor=\"start\" x=\"347.5\" y=\"-394.8\" font-family=\"Times,serif\" font-size=\"14.00\" fill=\"#000000\">Big Need shops ≤ 0.5</text>\n",
       "<text text-anchor=\"start\" x=\"372.5\" y=\"-379.8\" font-family=\"Times,serif\" font-size=\"14.00\" fill=\"#000000\">samples = 454</text>\n",
       "<text text-anchor=\"start\" x=\"328\" y=\"-364.8\" font-family=\"Times,serif\" font-size=\"14.00\" fill=\"#000000\">value = [96, 90, 91, 86, 91]</text>\n",
       "<text text-anchor=\"start\" x=\"348\" y=\"-349.8\" font-family=\"Times,serif\" font-size=\"14.00\" fill=\"#000000\">class = Banashankari</text>\n",
       "</g>\n",
       "<!-- 2&#45;&gt;3 -->\n",
       "<g id=\"edge3\" class=\"edge\">\n",
       "<title>2&#45;&gt;3</title>\n",
       "<path fill=\"none\" stroke=\"#000000\" d=\"M495.5766,-460.8796C487.4785,-451.8733 478.8386,-442.2644 470.4991,-432.9897\"/>\n",
       "<polygon fill=\"#000000\" stroke=\"#000000\" points=\"472.872,-430.394 463.5831,-425.2981 467.6667,-435.0743 472.872,-430.394\"/>\n",
       "</g>\n",
       "<!-- 10 -->\n",
       "<g id=\"node11\" class=\"node\">\n",
       "<title>10</title>\n",
       "<polygon fill=\"transparent\" stroke=\"#000000\" points=\"729.5,-417.5 550.5,-417.5 550.5,-349.5 729.5,-349.5 729.5,-417.5\"/>\n",
       "<text text-anchor=\"start\" x=\"605\" y=\"-402.3\" font-family=\"Times,serif\" font-size=\"14.00\" fill=\"#000000\">node #10</text>\n",
       "<text text-anchor=\"start\" x=\"591\" y=\"-387.3\" font-family=\"Times,serif\" font-size=\"14.00\" fill=\"#000000\">samples = 12</text>\n",
       "<text text-anchor=\"start\" x=\"564.5\" y=\"-372.3\" font-family=\"Times,serif\" font-size=\"14.00\" fill=\"#000000\">value = [1, 3, 0, 4, 4]</text>\n",
       "<text text-anchor=\"start\" x=\"558.5\" y=\"-357.3\" font-family=\"Times,serif\" font-size=\"14.00\" fill=\"#000000\">class = Malleshwaram</text>\n",
       "</g>\n",
       "<!-- 2&#45;&gt;10 -->\n",
       "<g id=\"edge10\" class=\"edge\">\n",
       "<title>2&#45;&gt;10</title>\n",
       "<path fill=\"none\" stroke=\"#000000\" d=\"M570.4234,-460.8796C580.7061,-449.4436 591.8623,-437.0363 602.1679,-425.575\"/>\n",
       "<polygon fill=\"#000000\" stroke=\"#000000\" points=\"605.0618,-427.5912 609.1454,-417.8149 599.8565,-422.9108 605.0618,-427.5912\"/>\n",
       "</g>\n",
       "<!-- 4 -->\n",
       "<g id=\"node5\" class=\"node\">\n",
       "<title>4</title>\n",
       "<polygon fill=\"#e58139\" fill-opacity=\"0.015686\" stroke=\"#000000\" points=\"425,-306 213,-306 213,-223 425,-223 425,-306\"/>\n",
       "<text text-anchor=\"start\" x=\"288.5\" y=\"-290.8\" font-family=\"Times,serif\" font-size=\"14.00\" fill=\"#000000\">node #4</text>\n",
       "<text text-anchor=\"start\" x=\"252.5\" y=\"-275.8\" font-family=\"Times,serif\" font-size=\"14.00\" fill=\"#000000\">Fancy needs ≤ 0.5</text>\n",
       "<text text-anchor=\"start\" x=\"265.5\" y=\"-260.8\" font-family=\"Times,serif\" font-size=\"14.00\" fill=\"#000000\">samples = 451</text>\n",
       "<text text-anchor=\"start\" x=\"221\" y=\"-245.8\" font-family=\"Times,serif\" font-size=\"14.00\" fill=\"#000000\">value = [96, 90, 90, 84, 91]</text>\n",
       "<text text-anchor=\"start\" x=\"241\" y=\"-230.8\" font-family=\"Times,serif\" font-size=\"14.00\" fill=\"#000000\">class = Banashankari</text>\n",
       "</g>\n",
       "<!-- 3&#45;&gt;4 -->\n",
       "<g id=\"edge4\" class=\"edge\">\n",
       "<title>3&#45;&gt;4</title>\n",
       "<path fill=\"none\" stroke=\"#000000\" d=\"M388.5766,-341.8796C380.4785,-332.8733 371.8386,-323.2644 363.4991,-313.9897\"/>\n",
       "<polygon fill=\"#000000\" stroke=\"#000000\" points=\"365.872,-311.394 356.5831,-306.2981 360.6667,-316.0743 365.872,-311.394\"/>\n",
       "</g>\n",
       "<!-- 9 -->\n",
       "<g id=\"node10\" class=\"node\">\n",
       "<title>9</title>\n",
       "<polygon fill=\"#3c39e5\" fill-opacity=\"0.498039\" stroke=\"#000000\" points=\"622.5,-298.5 443.5,-298.5 443.5,-230.5 622.5,-230.5 622.5,-298.5\"/>\n",
       "<text text-anchor=\"start\" x=\"502.5\" y=\"-283.3\" font-family=\"Times,serif\" font-size=\"14.00\" fill=\"#000000\">node #9</text>\n",
       "<text text-anchor=\"start\" x=\"488.5\" y=\"-268.3\" font-family=\"Times,serif\" font-size=\"14.00\" fill=\"#000000\">samples = 3</text>\n",
       "<text text-anchor=\"start\" x=\"457.5\" y=\"-253.3\" font-family=\"Times,serif\" font-size=\"14.00\" fill=\"#000000\">value = [0, 0, 1, 2, 0]</text>\n",
       "<text text-anchor=\"start\" x=\"451.5\" y=\"-238.3\" font-family=\"Times,serif\" font-size=\"14.00\" fill=\"#000000\">class = Malleshwaram</text>\n",
       "</g>\n",
       "<!-- 3&#45;&gt;9 -->\n",
       "<g id=\"edge9\" class=\"edge\">\n",
       "<title>3&#45;&gt;9</title>\n",
       "<path fill=\"none\" stroke=\"#000000\" d=\"M463.4234,-341.8796C473.7061,-330.4436 484.8623,-318.0363 495.1679,-306.575\"/>\n",
       "<polygon fill=\"#000000\" stroke=\"#000000\" points=\"498.0618,-308.5912 502.1454,-298.8149 492.8565,-303.9108 498.0618,-308.5912\"/>\n",
       "</g>\n",
       "<!-- 5 -->\n",
       "<g id=\"node6\" class=\"node\">\n",
       "<title>5</title>\n",
       "<polygon fill=\"#e58139\" fill-opacity=\"0.007843\" stroke=\"#000000\" points=\"322,-187 104,-187 104,-104 322,-104 322,-187\"/>\n",
       "<text text-anchor=\"start\" x=\"182.5\" y=\"-171.8\" font-family=\"Times,serif\" font-size=\"14.00\" fill=\"#000000\">node #5</text>\n",
       "<text text-anchor=\"start\" x=\"112\" y=\"-156.8\" font-family=\"Times,serif\" font-size=\"14.00\" fill=\"#000000\">Basic/Shopping needs ≤ 0.5</text>\n",
       "<text text-anchor=\"start\" x=\"159.5\" y=\"-141.8\" font-family=\"Times,serif\" font-size=\"14.00\" fill=\"#000000\">samples = 448</text>\n",
       "<text text-anchor=\"start\" x=\"115\" y=\"-126.8\" font-family=\"Times,serif\" font-size=\"14.00\" fill=\"#000000\">value = [94, 89, 90, 84, 91]</text>\n",
       "<text text-anchor=\"start\" x=\"135\" y=\"-111.8\" font-family=\"Times,serif\" font-size=\"14.00\" fill=\"#000000\">class = Banashankari</text>\n",
       "</g>\n",
       "<!-- 4&#45;&gt;5 -->\n",
       "<g id=\"edge5\" class=\"edge\">\n",
       "<title>4&#45;&gt;5</title>\n",
       "<path fill=\"none\" stroke=\"#000000\" d=\"M281.9263,-222.8796C273.9039,-213.8733 265.3448,-204.2644 257.0833,-194.9897\"/>\n",
       "<polygon fill=\"#000000\" stroke=\"#000000\" points=\"259.4969,-192.4373 250.2319,-187.2981 254.2698,-197.0933 259.4969,-192.4373\"/>\n",
       "</g>\n",
       "<!-- 8 -->\n",
       "<g id=\"node9\" class=\"node\">\n",
       "<title>8</title>\n",
       "<polygon fill=\"#e58139\" fill-opacity=\"0.498039\" stroke=\"#000000\" points=\"512,-179.5 340,-179.5 340,-111.5 512,-111.5 512,-179.5\"/>\n",
       "<text text-anchor=\"start\" x=\"395.5\" y=\"-164.3\" font-family=\"Times,serif\" font-size=\"14.00\" fill=\"#000000\">node #8</text>\n",
       "<text text-anchor=\"start\" x=\"381.5\" y=\"-149.3\" font-family=\"Times,serif\" font-size=\"14.00\" fill=\"#000000\">samples = 3</text>\n",
       "<text text-anchor=\"start\" x=\"350.5\" y=\"-134.3\" font-family=\"Times,serif\" font-size=\"14.00\" fill=\"#000000\">value = [2, 1, 0, 0, 0]</text>\n",
       "<text text-anchor=\"start\" x=\"348\" y=\"-119.3\" font-family=\"Times,serif\" font-size=\"14.00\" fill=\"#000000\">class = Banashankari</text>\n",
       "</g>\n",
       "<!-- 4&#45;&gt;8 -->\n",
       "<g id=\"edge8\" class=\"edge\">\n",
       "<title>4&#45;&gt;8</title>\n",
       "<path fill=\"none\" stroke=\"#000000\" d=\"M356.4234,-222.8796C366.7061,-211.4436 377.8623,-199.0363 388.1679,-187.575\"/>\n",
       "<polygon fill=\"#000000\" stroke=\"#000000\" points=\"391.0618,-189.5912 395.1454,-179.8149 385.8565,-184.9108 391.0618,-189.5912\"/>\n",
       "</g>\n",
       "<!-- 6 -->\n",
       "<g id=\"node7\" class=\"node\">\n",
       "<title>6</title>\n",
       "<polygon fill=\"#e58139\" fill-opacity=\"0.007843\" stroke=\"#000000\" points=\"212,-68 0,-68 0,0 212,0 212,-68\"/>\n",
       "<text text-anchor=\"start\" x=\"75.5\" y=\"-52.8\" font-family=\"Times,serif\" font-size=\"14.00\" fill=\"#000000\">node #6</text>\n",
       "<text text-anchor=\"start\" x=\"52.5\" y=\"-37.8\" font-family=\"Times,serif\" font-size=\"14.00\" fill=\"#000000\">samples = 420</text>\n",
       "<text text-anchor=\"start\" x=\"8\" y=\"-22.8\" font-family=\"Times,serif\" font-size=\"14.00\" fill=\"#000000\">value = [90, 83, 85, 75, 87]</text>\n",
       "<text text-anchor=\"start\" x=\"28\" y=\"-7.8\" font-family=\"Times,serif\" font-size=\"14.00\" fill=\"#000000\">class = Banashankari</text>\n",
       "</g>\n",
       "<!-- 5&#45;&gt;6 -->\n",
       "<g id=\"edge6\" class=\"edge\">\n",
       "<title>5&#45;&gt;6</title>\n",
       "<path fill=\"none\" stroke=\"#000000\" d=\"M173.1571,-103.9815C164.2492,-94.6989 154.7999,-84.8522 145.8901,-75.5677\"/>\n",
       "<polygon fill=\"#000000\" stroke=\"#000000\" points=\"148.3302,-73.0555 138.8808,-68.2637 143.2795,-77.9023 148.3302,-73.0555\"/>\n",
       "</g>\n",
       "<!-- 7 -->\n",
       "<g id=\"node8\" class=\"node\">\n",
       "<title>7</title>\n",
       "<polygon fill=\"#3c39e5\" fill-opacity=\"0.137255\" stroke=\"#000000\" points=\"409.5,-68 230.5,-68 230.5,0 409.5,0 409.5,-68\"/>\n",
       "<text text-anchor=\"start\" x=\"289.5\" y=\"-52.8\" font-family=\"Times,serif\" font-size=\"14.00\" fill=\"#000000\">node #7</text>\n",
       "<text text-anchor=\"start\" x=\"271\" y=\"-37.8\" font-family=\"Times,serif\" font-size=\"14.00\" fill=\"#000000\">samples = 28</text>\n",
       "<text text-anchor=\"start\" x=\"244.5\" y=\"-22.8\" font-family=\"Times,serif\" font-size=\"14.00\" fill=\"#000000\">value = [4, 6, 5, 9, 4]</text>\n",
       "<text text-anchor=\"start\" x=\"238.5\" y=\"-7.8\" font-family=\"Times,serif\" font-size=\"14.00\" fill=\"#000000\">class = Malleshwaram</text>\n",
       "</g>\n",
       "<!-- 5&#45;&gt;7 -->\n",
       "<g id=\"edge7\" class=\"edge\">\n",
       "<title>5&#45;&gt;7</title>\n",
       "<path fill=\"none\" stroke=\"#000000\" d=\"M252.8429,-103.9815C261.7508,-94.6989 271.2001,-84.8522 280.1099,-75.5677\"/>\n",
       "<polygon fill=\"#000000\" stroke=\"#000000\" points=\"282.7205,-77.9023 287.1192,-68.2637 277.6698,-73.0555 282.7205,-77.9023\"/>\n",
       "</g>\n",
       "</g>\n",
       "</svg>\n"
      ],
      "text/plain": [
       "<graphviz.files.Source at 0x7f004fbd2390>"
      ]
     },
     "execution_count": 24,
     "metadata": {},
     "output_type": "execute_result"
    }
   ],
   "source": [
    "export_graphviz(bamboo_tree,\n",
    "                feature_names=list(crterias.columns.values),\n",
    "                out_file=\"Bangalore_Area_tree.dot\",\n",
    "                class_names=np.unique(Areas),\n",
    "                filled=True,\n",
    "                node_ids=True,\n",
    "                special_characters=True,\n",
    "                impurity=False,\n",
    "                label=\"all\",\n",
    "                leaves_parallel=False)\n",
    "\n",
    "with open(\"Bangalore_Area_tree.dot\") as bamboo_tree_image:\n",
    "    bamboo_tree_graph = bamboo_tree_image.read()\n",
    "graphviz.Source(bamboo_tree_graph)"
   ]
  },
  {
   "cell_type": "code",
   "execution_count": 26,
   "metadata": {},
   "outputs": [
    {
     "data": {
      "image/png": "[encoded data removed]",
      "text/plain": [
       "<Figure size 432x648 with 6 Axes>"
      ]
     },
     "metadata": {
      "needs_background": "light"
     },
     "output_type": "display_data"
    }
   ],
   "source": [
    "import seaborn as sns\n",
    "\n",
    "bins = np.linspace(s.Bar.min(), s.Bar.max(), 5)\n",
    "g = sns.FacetGrid(s, col=\"Calm Place\",hue=\"Calm Place\", palette=\"Set1\", col_wrap=2)\n",
    "g.map(plt.hist, 'Bar', bins=bins, ec=\"k\")\n",
    "\n",
    "g.axes[-1].legend()\n",
    "plt.show()"
   ]
  },
  {
   "cell_type": "code",
   "execution_count": 27,
   "metadata": {},
   "outputs": [
    {
     "data": {
      "image/png": "[encoded data removed]",
      "text/plain": [
       "<Figure size 432x648 with 6 Axes>"
      ]
     },
     "metadata": {
      "needs_background": "light"
     },
     "output_type": "display_data"
    }
   ],
   "source": [
    "bins = np.linspace(s.Food.min(), s.Food.max(), 15)\n",
    "g = sns.FacetGrid(s, col=\"Calm Place\", hue=\"Calm Place\", palette=\"Set1\", col_wrap=2)\n",
    "g.map(plt.hist, 'Food', bins=bins, ec=\"k\")\n",
    "\n",
    "g.axes[-1].legend()\n",
    "plt.show()"
   ]
  },
  {
   "cell_type": "code",
   "execution_count": 28,
   "metadata": {},
   "outputs": [
    {
     "data": {
      "image/png": "[encoded data removed]",
      "text/plain": [
       "<Figure size 432x648 with 6 Axes>"
      ]
     },
     "metadata": {
      "needs_background": "light"
     },
     "output_type": "display_data"
    }
   ],
   "source": [
    "bins = np.linspace(s['Fancy needs'].min(), s['Fancy needs'].max(), 15)\n",
    "g = sns.FacetGrid(s, col=\"Calm Place\", hue=\"Calm Place\", palette=\"Set1\", col_wrap=2)\n",
    "g.map(plt.hist, 'Fancy needs', bins=bins, ec=\"k\")\n",
    "\n",
    "g.axes[-1].legend()\n",
    "plt.show()"
   ]
  },
  {
   "cell_type": "code",
   "execution_count": 29,
   "metadata": {},
   "outputs": [
    {
     "data": {
      "image/png": "[encoded data removed]",
      "text/plain": [
       "<Figure size 432x648 with 6 Axes>"
      ]
     },
     "metadata": {
      "needs_background": "light"
     },
     "output_type": "display_data"
    }
   ],
   "source": [
    "bins = np.linspace(s['Arts'].min(), s['Arts'].max(), 15)\n",
    "g = sns.FacetGrid(s, col=\"Calm Place\", hue=\"Calm Place\", palette=\"Set1\", col_wrap=2)\n",
    "g.map(plt.hist, 'Arts', bins=bins, ec=\"k\")\n",
    "\n",
    "g.axes[-1].legend()\n",
    "plt.show()"
   ]
  },
  {
   "cell_type": "code",
   "execution_count": 30,
   "metadata": {},
   "outputs": [
    {
     "name": "stderr",
     "output_type": "stream",
     "text": [
      "/home/jupyterlab/conda/envs/python/lib/python3.6/site-packages/sklearn/preprocessing/data.py:323: DataConversionWarning: Data with input dtype uint8 were all converted to float64 by MinMaxScaler.\n",
      "  return self.partial_fit(X, y)\n"
     ]
    },
    {
     "data": {
      "text/html": [
       "<div>\n",
       "<style scoped>\n",
       "    .dataframe tbody tr th:only-of-type {\n",
       "        vertical-align: middle;\n",
       "    }\n",
       "\n",
       "    .dataframe tbody tr th {\n",
       "        vertical-align: top;\n",
       "    }\n",
       "\n",
       "    .dataframe thead th {\n",
       "        text-align: right;\n",
       "    }\n",
       "</style>\n",
       "<table border=\"1\" class=\"dataframe\">\n",
       "  <thead>\n",
       "    <tr style=\"text-align: right;\">\n",
       "      <th></th>\n",
       "      <th>Area</th>\n",
       "      <th>Arts</th>\n",
       "      <th>Bar</th>\n",
       "      <th>Basic/Shopping needs</th>\n",
       "      <th>Big Need shops</th>\n",
       "      <th>Calm Place</th>\n",
       "      <th>Fancy needs</th>\n",
       "      <th>Food</th>\n",
       "      <th>Game</th>\n",
       "      <th>Movie</th>\n",
       "      <th>Other</th>\n",
       "      <th>Work</th>\n",
       "    </tr>\n",
       "  </thead>\n",
       "  <tbody>\n",
       "    <tr>\n",
       "      <th>0</th>\n",
       "      <td>Banashankari</td>\n",
       "      <td>0.5</td>\n",
       "      <td>0.083333</td>\n",
       "      <td>0.000000</td>\n",
       "      <td>0.0</td>\n",
       "      <td>0.285714</td>\n",
       "      <td>0.666667</td>\n",
       "      <td>1.000000</td>\n",
       "      <td>0.000</td>\n",
       "      <td>0.25</td>\n",
       "      <td>1.0</td>\n",
       "      <td>0.0</td>\n",
       "    </tr>\n",
       "    <tr>\n",
       "      <th>1</th>\n",
       "      <td>Basavanagudi</td>\n",
       "      <td>0.5</td>\n",
       "      <td>0.416667</td>\n",
       "      <td>0.285714</td>\n",
       "      <td>0.0</td>\n",
       "      <td>0.571429</td>\n",
       "      <td>0.333333</td>\n",
       "      <td>0.421053</td>\n",
       "      <td>0.250</td>\n",
       "      <td>0.75</td>\n",
       "      <td>1.0</td>\n",
       "      <td>0.0</td>\n",
       "    </tr>\n",
       "    <tr>\n",
       "      <th>2</th>\n",
       "      <td>Hebbal</td>\n",
       "      <td>1.0</td>\n",
       "      <td>0.000000</td>\n",
       "      <td>0.142857</td>\n",
       "      <td>0.5</td>\n",
       "      <td>1.000000</td>\n",
       "      <td>0.000000</td>\n",
       "      <td>0.736842</td>\n",
       "      <td>0.125</td>\n",
       "      <td>0.00</td>\n",
       "      <td>0.0</td>\n",
       "      <td>0.5</td>\n",
       "    </tr>\n",
       "    <tr>\n",
       "      <th>3</th>\n",
       "      <td>Indira Nagar</td>\n",
       "      <td>0.0</td>\n",
       "      <td>0.833333</td>\n",
       "      <td>1.000000</td>\n",
       "      <td>0.0</td>\n",
       "      <td>0.142857</td>\n",
       "      <td>1.000000</td>\n",
       "      <td>0.157895</td>\n",
       "      <td>0.375</td>\n",
       "      <td>0.00</td>\n",
       "      <td>0.0</td>\n",
       "      <td>0.0</td>\n",
       "    </tr>\n",
       "    <tr>\n",
       "      <th>4</th>\n",
       "      <td>Jayanagar</td>\n",
       "      <td>0.5</td>\n",
       "      <td>0.333333</td>\n",
       "      <td>0.428571</td>\n",
       "      <td>0.0</td>\n",
       "      <td>0.428571</td>\n",
       "      <td>0.333333</td>\n",
       "      <td>0.421053</td>\n",
       "      <td>0.250</td>\n",
       "      <td>1.00</td>\n",
       "      <td>1.0</td>\n",
       "      <td>0.0</td>\n",
       "    </tr>\n",
       "    <tr>\n",
       "      <th>5</th>\n",
       "      <td>Koramangala</td>\n",
       "      <td>0.0</td>\n",
       "      <td>0.583333</td>\n",
       "      <td>0.857143</td>\n",
       "      <td>0.0</td>\n",
       "      <td>0.142857</td>\n",
       "      <td>0.666667</td>\n",
       "      <td>0.157895</td>\n",
       "      <td>0.375</td>\n",
       "      <td>1.00</td>\n",
       "      <td>0.0</td>\n",
       "      <td>0.5</td>\n",
       "    </tr>\n",
       "    <tr>\n",
       "      <th>6</th>\n",
       "      <td>Malleshwaram</td>\n",
       "      <td>0.5</td>\n",
       "      <td>0.083333</td>\n",
       "      <td>0.714286</td>\n",
       "      <td>1.0</td>\n",
       "      <td>0.285714</td>\n",
       "      <td>0.000000</td>\n",
       "      <td>0.263158</td>\n",
       "      <td>0.875</td>\n",
       "      <td>1.00</td>\n",
       "      <td>0.0</td>\n",
       "      <td>0.0</td>\n",
       "    </tr>\n",
       "    <tr>\n",
       "      <th>7</th>\n",
       "      <td>Marathahalli</td>\n",
       "      <td>0.0</td>\n",
       "      <td>0.083333</td>\n",
       "      <td>0.285714</td>\n",
       "      <td>1.0</td>\n",
       "      <td>0.285714</td>\n",
       "      <td>0.000000</td>\n",
       "      <td>0.421053</td>\n",
       "      <td>1.000</td>\n",
       "      <td>0.50</td>\n",
       "      <td>0.0</td>\n",
       "      <td>1.0</td>\n",
       "    </tr>\n",
       "    <tr>\n",
       "      <th>8</th>\n",
       "      <td>Ulsoor</td>\n",
       "      <td>0.0</td>\n",
       "      <td>1.000000</td>\n",
       "      <td>0.857143</td>\n",
       "      <td>0.0</td>\n",
       "      <td>0.285714</td>\n",
       "      <td>1.000000</td>\n",
       "      <td>0.000000</td>\n",
       "      <td>0.500</td>\n",
       "      <td>0.00</td>\n",
       "      <td>0.0</td>\n",
       "      <td>0.0</td>\n",
       "    </tr>\n",
       "    <tr>\n",
       "      <th>9</th>\n",
       "      <td>Whitefield</td>\n",
       "      <td>0.0</td>\n",
       "      <td>0.250000</td>\n",
       "      <td>0.000000</td>\n",
       "      <td>0.0</td>\n",
       "      <td>0.000000</td>\n",
       "      <td>0.000000</td>\n",
       "      <td>0.736842</td>\n",
       "      <td>0.500</td>\n",
       "      <td>1.00</td>\n",
       "      <td>1.0</td>\n",
       "      <td>0.5</td>\n",
       "    </tr>\n",
       "  </tbody>\n",
       "</table>\n",
       "</div>"
      ],
      "text/plain": [
       "           Area  Arts       Bar  Basic/Shopping needs  Big Need shops  \\\n",
       "0  Banashankari   0.5  0.083333              0.000000             0.0   \n",
       "1  Basavanagudi   0.5  0.416667              0.285714             0.0   \n",
       "2        Hebbal   1.0  0.000000              0.142857             0.5   \n",
       "3  Indira Nagar   0.0  0.833333              1.000000             0.0   \n",
       "4     Jayanagar   0.5  0.333333              0.428571             0.0   \n",
       "5   Koramangala   0.0  0.583333              0.857143             0.0   \n",
       "6  Malleshwaram   0.5  0.083333              0.714286             1.0   \n",
       "7  Marathahalli   0.0  0.083333              0.285714             1.0   \n",
       "8        Ulsoor   0.0  1.000000              0.857143             0.0   \n",
       "9    Whitefield   0.0  0.250000              0.000000             0.0   \n",
       "\n",
       "   Calm Place  Fancy needs      Food   Game  Movie  Other  Work  \n",
       "0    0.285714     0.666667  1.000000  0.000   0.25    1.0   0.0  \n",
       "1    0.571429     0.333333  0.421053  0.250   0.75    1.0   0.0  \n",
       "2    1.000000     0.000000  0.736842  0.125   0.00    0.0   0.5  \n",
       "3    0.142857     1.000000  0.157895  0.375   0.00    0.0   0.0  \n",
       "4    0.428571     0.333333  0.421053  0.250   1.00    1.0   0.0  \n",
       "5    0.142857     0.666667  0.157895  0.375   1.00    0.0   0.5  \n",
       "6    0.285714     0.000000  0.263158  0.875   1.00    0.0   0.0  \n",
       "7    0.285714     0.000000  0.421053  1.000   0.50    0.0   1.0  \n",
       "8    0.285714     1.000000  0.000000  0.500   0.00    0.0   0.0  \n",
       "9    0.000000     0.000000  0.736842  0.500   1.00    1.0   0.5  "
      ]
     },
     "execution_count": 30,
     "metadata": {},
     "output_type": "execute_result"
    }
   ],
   "source": [
    "#s.groupby('Area').mean().reset_index()\n",
    "from sklearn import preprocessing\n",
    "x = s #returns a numpy array\n",
    "min_max_scaler = preprocessing.MinMaxScaler()\n",
    "x_scaled = min_max_scaler.fit_transform(x)\n",
    "Areas_Normalized = pd.DataFrame(x_scaled)\n",
    "Areas_Normalized.columns = s.columns\n",
    "Areas_Normalized.insert(0, \"Area\",df['Area Name'].values , True)\n",
    "Areas_Normalized"
   ]
  },
  {
   "cell_type": "code",
   "execution_count": 31,
   "metadata": {},
   "outputs": [
    {
     "data": {
      "text/html": [
       "<div>\n",
       "<style scoped>\n",
       "    .dataframe tbody tr th:only-of-type {\n",
       "        vertical-align: middle;\n",
       "    }\n",
       "\n",
       "    .dataframe tbody tr th {\n",
       "        vertical-align: top;\n",
       "    }\n",
       "\n",
       "    .dataframe thead th {\n",
       "        text-align: right;\n",
       "    }\n",
       "</style>\n",
       "<table border=\"1\" class=\"dataframe\">\n",
       "  <thead>\n",
       "    <tr style=\"text-align: right;\">\n",
       "      <th></th>\n",
       "      <th>Area Name</th>\n",
       "      <th>Latitude</th>\n",
       "      <th>Longitude</th>\n",
       "    </tr>\n",
       "  </thead>\n",
       "  <tbody>\n",
       "    <tr>\n",
       "      <th>6</th>\n",
       "      <td>Banashankari</td>\n",
       "      <td>12.925453</td>\n",
       "      <td>77.546761</td>\n",
       "    </tr>\n",
       "    <tr>\n",
       "      <th>8</th>\n",
       "      <td>Basavanagudi</td>\n",
       "      <td>12.942117</td>\n",
       "      <td>77.575361</td>\n",
       "    </tr>\n",
       "    <tr>\n",
       "      <th>4</th>\n",
       "      <td>Hebbal</td>\n",
       "      <td>13.035781</td>\n",
       "      <td>77.597008</td>\n",
       "    </tr>\n",
       "    <tr>\n",
       "      <th>0</th>\n",
       "      <td>Indira Nagar</td>\n",
       "      <td>12.971891</td>\n",
       "      <td>77.641151</td>\n",
       "    </tr>\n",
       "    <tr>\n",
       "      <th>5</th>\n",
       "      <td>Jayanagar</td>\n",
       "      <td>12.927501</td>\n",
       "      <td>77.582774</td>\n",
       "    </tr>\n",
       "    <tr>\n",
       "      <th>3</th>\n",
       "      <td>Koramangala</td>\n",
       "      <td>12.934533</td>\n",
       "      <td>77.626579</td>\n",
       "    </tr>\n",
       "    <tr>\n",
       "      <th>2</th>\n",
       "      <td>Malleshwaram</td>\n",
       "      <td>13.005459</td>\n",
       "      <td>77.569199</td>\n",
       "    </tr>\n",
       "    <tr>\n",
       "      <th>1</th>\n",
       "      <td>Marathahalli</td>\n",
       "      <td>12.951845</td>\n",
       "      <td>77.699577</td>\n",
       "    </tr>\n",
       "    <tr>\n",
       "      <th>7</th>\n",
       "      <td>Ulsoor</td>\n",
       "      <td>12.975500</td>\n",
       "      <td>77.618200</td>\n",
       "    </tr>\n",
       "    <tr>\n",
       "      <th>9</th>\n",
       "      <td>Whitefield</td>\n",
       "      <td>12.971389</td>\n",
       "      <td>77.750130</td>\n",
       "    </tr>\n",
       "  </tbody>\n",
       "</table>\n",
       "</div>"
      ],
      "text/plain": [
       "      Area Name   Latitude  Longitude\n",
       "6  Banashankari  12.925453  77.546761\n",
       "8  Basavanagudi  12.942117  77.575361\n",
       "4        Hebbal  13.035781  77.597008\n",
       "0  Indira Nagar  12.971891  77.641151\n",
       "5     Jayanagar  12.927501  77.582774\n",
       "3   Koramangala  12.934533  77.626579\n",
       "2  Malleshwaram  13.005459  77.569199\n",
       "1  Marathahalli  12.951845  77.699577\n",
       "7        Ulsoor  12.975500  77.618200\n",
       "9    Whitefield  12.971389  77.750130"
      ]
     },
     "execution_count": 31,
     "metadata": {},
     "output_type": "execute_result"
    }
   ],
   "source": [
    "df"
   ]
  },
  {
   "cell_type": "markdown",
   "metadata": {},
   "source": [
    "#### Let's print each neighborhood along with the top 5 most common venues"
   ]
  },
  {
   "cell_type": "code",
   "execution_count": 32,
   "metadata": {
    "collapsed": false,
    "jupyter": {
     "outputs_hidden": false
    }
   },
   "outputs": [
    {
     "name": "stdout",
     "output_type": "stream",
     "text": [
      "----Banashankari----\n",
      "                  venue  Top most Happening Places\n",
      "0                  Food                       1.00\n",
      "1                 Other                       1.00\n",
      "2           Fancy needs                       0.67\n",
      "3                  Arts                       0.50\n",
      "4            Calm Place                       0.29\n",
      "5                 Movie                       0.25\n",
      "6                   Bar                       0.08\n",
      "7  Basic/Shopping needs                       0.00\n",
      "8        Big Need shops                       0.00\n",
      "\n",
      "\n",
      "----Basavanagudi----\n",
      "                  venue  Top most Happening Places\n",
      "0                 Other                       1.00\n",
      "1                 Movie                       0.75\n",
      "2            Calm Place                       0.57\n",
      "3                  Arts                       0.50\n",
      "4                   Bar                       0.42\n",
      "5                  Food                       0.42\n",
      "6           Fancy needs                       0.33\n",
      "7  Basic/Shopping needs                       0.29\n",
      "8                  Game                       0.25\n",
      "\n",
      "\n",
      "----Hebbal----\n",
      "                  venue  Top most Happening Places\n",
      "0                  Arts                       1.00\n",
      "1            Calm Place                       1.00\n",
      "2                  Food                       0.74\n",
      "3        Big Need shops                       0.50\n",
      "4                  Work                       0.50\n",
      "5  Basic/Shopping needs                       0.14\n",
      "6                  Game                       0.12\n",
      "7                   Bar                       0.00\n",
      "8           Fancy needs                       0.00\n",
      "\n",
      "\n",
      "----Indira Nagar----\n",
      "                  venue  Top most Happening Places\n",
      "0  Basic/Shopping needs                       1.00\n",
      "1           Fancy needs                       1.00\n",
      "2                   Bar                       0.83\n",
      "3                  Game                       0.38\n",
      "4                  Food                       0.16\n",
      "5            Calm Place                       0.14\n",
      "6                  Arts                       0.00\n",
      "7        Big Need shops                       0.00\n",
      "8                 Movie                       0.00\n",
      "\n",
      "\n",
      "----Jayanagar----\n",
      "                  venue  Top most Happening Places\n",
      "0                 Movie                       1.00\n",
      "1                 Other                       1.00\n",
      "2                  Arts                       0.50\n",
      "3  Basic/Shopping needs                       0.43\n",
      "4            Calm Place                       0.43\n",
      "5                  Food                       0.42\n",
      "6                   Bar                       0.33\n",
      "7           Fancy needs                       0.33\n",
      "8                  Game                       0.25\n",
      "\n",
      "\n",
      "----Koramangala----\n",
      "                  venue  Top most Happening Places\n",
      "0                 Movie                       1.00\n",
      "1  Basic/Shopping needs                       0.86\n",
      "2           Fancy needs                       0.67\n",
      "3                   Bar                       0.58\n",
      "4                  Work                       0.50\n",
      "5                  Game                       0.38\n",
      "6                  Food                       0.16\n",
      "7            Calm Place                       0.14\n",
      "8                  Arts                       0.00\n",
      "\n",
      "\n",
      "----Malleshwaram----\n",
      "                  venue  Top most Happening Places\n",
      "0        Big Need shops                       1.00\n",
      "1                 Movie                       1.00\n",
      "2                  Game                       0.88\n",
      "3  Basic/Shopping needs                       0.71\n",
      "4                  Arts                       0.50\n",
      "5            Calm Place                       0.29\n",
      "6                  Food                       0.26\n",
      "7                   Bar                       0.08\n",
      "8           Fancy needs                       0.00\n",
      "\n",
      "\n",
      "----Marathahalli----\n",
      "                  venue  Top most Happening Places\n",
      "0        Big Need shops                       1.00\n",
      "1                  Game                       1.00\n",
      "2                  Work                       1.00\n",
      "3                 Movie                       0.50\n",
      "4                  Food                       0.42\n",
      "5  Basic/Shopping needs                       0.29\n",
      "6            Calm Place                       0.29\n",
      "7                   Bar                       0.08\n",
      "8                  Arts                       0.00\n",
      "\n",
      "\n",
      "----Ulsoor----\n",
      "                  venue  Top most Happening Places\n",
      "0                   Bar                       1.00\n",
      "1           Fancy needs                       1.00\n",
      "2  Basic/Shopping needs                       0.86\n",
      "3                  Game                       0.50\n",
      "4            Calm Place                       0.29\n",
      "5                  Arts                       0.00\n",
      "6        Big Need shops                       0.00\n",
      "7                  Food                       0.00\n",
      "8                 Movie                       0.00\n",
      "\n",
      "\n",
      "----Whitefield----\n",
      "                  venue  Top most Happening Places\n",
      "0                 Movie                       1.00\n",
      "1                 Other                       1.00\n",
      "2                  Food                       0.74\n",
      "3                  Game                       0.50\n",
      "4                  Work                       0.50\n",
      "5                   Bar                       0.25\n",
      "6                  Arts                       0.00\n",
      "7  Basic/Shopping needs                       0.00\n",
      "8        Big Need shops                       0.00\n",
      "\n",
      "\n"
     ]
    }
   ],
   "source": [
    "num_top_venues = 9\n",
    "\n",
    "for Area in df['Area Name']:\n",
    "    print(\"----\"+Area+\"----\")\n",
    "    temp = Areas_Normalized[Areas_Normalized['Area'] == Area].T.reset_index()\n",
    "    temp.columns = ['venue','Top most Happening Places']\n",
    "    temp = temp.iloc[1:]\n",
    "    temp['Top most Happening Places'] = temp['Top most Happening Places'].astype(float)\n",
    "    temp = temp.round({'Top most Happening Places': 2})\n",
    "    print(temp.sort_values('Top most Happening Places', ascending=False).reset_index(drop=True).head(num_top_venues))\n",
    "    print('\\n')"
   ]
  },
  {
   "cell_type": "markdown",
   "metadata": {},
   "source": [
    "#### Let's put that into a *pandas* dataframe"
   ]
  },
  {
   "cell_type": "markdown",
   "metadata": {},
   "source": [
    "First, let's write a function to sort the venues in descending order."
   ]
  },
  {
   "cell_type": "code",
   "execution_count": 33,
   "metadata": {},
   "outputs": [
    {
     "data": {
      "text/html": [
       "<div>\n",
       "<style scoped>\n",
       "    .dataframe tbody tr th:only-of-type {\n",
       "        vertical-align: middle;\n",
       "    }\n",
       "\n",
       "    .dataframe tbody tr th {\n",
       "        vertical-align: top;\n",
       "    }\n",
       "\n",
       "    .dataframe thead th {\n",
       "        text-align: right;\n",
       "    }\n",
       "</style>\n",
       "<table border=\"1\" class=\"dataframe\">\n",
       "  <thead>\n",
       "    <tr style=\"text-align: right;\">\n",
       "      <th></th>\n",
       "      <th>Food</th>\n",
       "      <th>Bar</th>\n",
       "      <th>Game</th>\n",
       "      <th>Arts</th>\n",
       "      <th>Movie</th>\n",
       "      <th>Basic/Shopping needs</th>\n",
       "      <th>Fancy needs</th>\n",
       "      <th>Work</th>\n",
       "      <th>Calm Place</th>\n",
       "      <th>Big Need shops</th>\n",
       "    </tr>\n",
       "  </thead>\n",
       "  <tbody>\n",
       "    <tr>\n",
       "      <th>0</th>\n",
       "      <td>1</td>\n",
       "      <td>0</td>\n",
       "      <td>0</td>\n",
       "      <td>0</td>\n",
       "      <td>0</td>\n",
       "      <td>0</td>\n",
       "      <td>0</td>\n",
       "      <td>0</td>\n",
       "      <td>0</td>\n",
       "      <td>0</td>\n",
       "    </tr>\n",
       "    <tr>\n",
       "      <th>1</th>\n",
       "      <td>1</td>\n",
       "      <td>0</td>\n",
       "      <td>0</td>\n",
       "      <td>0</td>\n",
       "      <td>0</td>\n",
       "      <td>0</td>\n",
       "      <td>0</td>\n",
       "      <td>0</td>\n",
       "      <td>0</td>\n",
       "      <td>0</td>\n",
       "    </tr>\n",
       "    <tr>\n",
       "      <th>2</th>\n",
       "      <td>1</td>\n",
       "      <td>0</td>\n",
       "      <td>0</td>\n",
       "      <td>0</td>\n",
       "      <td>0</td>\n",
       "      <td>0</td>\n",
       "      <td>0</td>\n",
       "      <td>0</td>\n",
       "      <td>0</td>\n",
       "      <td>0</td>\n",
       "    </tr>\n",
       "    <tr>\n",
       "      <th>3</th>\n",
       "      <td>1</td>\n",
       "      <td>0</td>\n",
       "      <td>0</td>\n",
       "      <td>0</td>\n",
       "      <td>0</td>\n",
       "      <td>0</td>\n",
       "      <td>0</td>\n",
       "      <td>0</td>\n",
       "      <td>0</td>\n",
       "      <td>0</td>\n",
       "    </tr>\n",
       "    <tr>\n",
       "      <th>4</th>\n",
       "      <td>0</td>\n",
       "      <td>1</td>\n",
       "      <td>0</td>\n",
       "      <td>0</td>\n",
       "      <td>0</td>\n",
       "      <td>0</td>\n",
       "      <td>0</td>\n",
       "      <td>0</td>\n",
       "      <td>0</td>\n",
       "      <td>0</td>\n",
       "    </tr>\n",
       "  </tbody>\n",
       "</table>\n",
       "</div>"
      ],
      "text/plain": [
       "   Food  Bar  Game  Arts  Movie  Basic/Shopping needs  Fancy needs  Work  \\\n",
       "0     1    0     0     0      0                     0            0     0   \n",
       "1     1    0     0     0      0                     0            0     0   \n",
       "2     1    0     0     0      0                     0            0     0   \n",
       "3     1    0     0     0      0                     0            0     0   \n",
       "4     0    1     0     0      0                     0            0     0   \n",
       "\n",
       "   Calm Place  Big Need shops  \n",
       "0           0               0  \n",
       "1           0               0  \n",
       "2           0               0  \n",
       "3           0               0  \n",
       "4           0               0  "
      ]
     },
     "execution_count": 33,
     "metadata": {},
     "output_type": "execute_result"
    }
   ],
   "source": [
    "Feature = Bangalore_Mainonehot[['Food','Bar','Game','Arts','Movie','Basic/Shopping needs','Fancy needs','Work','Calm Place','Big Need shops']]\n",
    "X = Feature\n",
    "X[0:5]"
   ]
  },
  {
   "cell_type": "code",
   "execution_count": 34,
   "metadata": {},
   "outputs": [
    {
     "data": {
      "text/plain": [
       "array(['Banashankari', 'Banashankari', 'Banashankari', 'Banashankari',\n",
       "       'Banashankari'], dtype=object)"
      ]
     },
     "execution_count": 34,
     "metadata": {},
     "output_type": "execute_result"
    }
   ],
   "source": [
    "y = Bangalore_Mainonehot['Area'].values\n",
    "y[0:5]"
   ]
  },
  {
   "cell_type": "code",
   "execution_count": 35,
   "metadata": {},
   "outputs": [
    {
     "name": "stderr",
     "output_type": "stream",
     "text": [
      "/home/jupyterlab/conda/envs/python/lib/python3.6/site-packages/sklearn/preprocessing/data.py:625: DataConversionWarning: Data with input dtype uint8 were all converted to float64 by StandardScaler.\n",
      "  return self.partial_fit(X, y)\n",
      "/home/jupyterlab/conda/envs/python/lib/python3.6/site-packages/ipykernel_launcher.py:1: DataConversionWarning: Data with input dtype uint8 were all converted to float64 by StandardScaler.\n",
      "  \"\"\"Entry point for launching an IPython kernel.\n"
     ]
    },
    {
     "data": {
      "text/plain": [
       "array([[ 0.73057671, -0.42665337, -0.21453462, -0.0776931 , -0.14998296,\n",
       "        -0.27854301, -0.11020775, -0.07088812, -0.15681251, -0.07088812],\n",
       "       [ 0.73057671, -0.42665337, -0.21453462, -0.0776931 , -0.14998296,\n",
       "        -0.27854301, -0.11020775, -0.07088812, -0.15681251, -0.07088812],\n",
       "       [ 0.73057671, -0.42665337, -0.21453462, -0.0776931 , -0.14998296,\n",
       "        -0.27854301, -0.11020775, -0.07088812, -0.15681251, -0.07088812],\n",
       "       [ 0.73057671, -0.42665337, -0.21453462, -0.0776931 , -0.14998296,\n",
       "        -0.27854301, -0.11020775, -0.07088812, -0.15681251, -0.07088812],\n",
       "       [-1.36878165,  2.34382305, -0.21453462, -0.0776931 , -0.14998296,\n",
       "        -0.27854301, -0.11020775, -0.07088812, -0.15681251, -0.07088812]])"
      ]
     },
     "execution_count": 35,
     "metadata": {},
     "output_type": "execute_result"
    }
   ],
   "source": [
    "X = preprocessing.StandardScaler().fit(X).transform(X)\n",
    "X[0:5]"
   ]
  },
  {
   "cell_type": "code",
   "execution_count": 38,
   "metadata": {},
   "outputs": [
    {
     "name": "stdout",
     "output_type": "stream",
     "text": [
      "Train set: (800, 10) (800,)\n",
      "Test set: (200, 10) (200,)\n"
     ]
    }
   ],
   "source": [
    "from sklearn.model_selection import train_test_split\n",
    "from sklearn.metrics import jaccard_similarity_score\n",
    "from sklearn.metrics import f1_score\n",
    "from sklearn.metrics import log_loss\n",
    "X_train, X_test, y_train, y_test = train_test_split(X, y, test_size=0.2, random_state=4)\n",
    "print ('Train set:', X_train.shape,  y_train.shape)\n",
    "print ('Test set:', X_test.shape,  y_test.shape)"
   ]
  },
  {
   "cell_type": "code",
   "execution_count": 40,
   "metadata": {},
   "outputs": [
    {
     "data": {
      "text/plain": [
       "array([0.14 , 0.14 , 0.125, 0.12 , 0.125, 0.105, 0.09 , 0.105, 0.105,\n",
       "       0.09 , 0.08 , 0.08 , 0.08 , 0.075])"
      ]
     },
     "execution_count": 40,
     "metadata": {},
     "output_type": "execute_result"
    }
   ],
   "source": [
    "# Best k\n",
    "from sklearn.neighbors import KNeighborsClassifier\n",
    "Ks=15\n",
    "mean_acc=np.zeros((Ks-1))\n",
    "std_acc=np.zeros((Ks-1))\n",
    "ConfustionMx=[];\n",
    "for n in range(1,Ks):\n",
    "    \n",
    "    #Train Model and Predict  \n",
    "    kNN_model = KNeighborsClassifier(n_neighbors=n).fit(X_train,y_train)\n",
    "    yhat = kNN_model.predict(X_test)\n",
    "    #print({0},{1},yhat,y_test)\n",
    "    mean_acc[n-1]=np.mean(yhat==y_test);\n",
    "    \n",
    "    std_acc[n-1]=np.std(yhat==y_test)/np.sqrt(yhat.shape[0])\n",
    "mean_acc"
   ]
  },
  {
   "cell_type": "code",
   "execution_count": 41,
   "metadata": {},
   "outputs": [
    {
     "data": {
      "text/plain": [
       "KNeighborsClassifier(algorithm='auto', leaf_size=30, metric='minkowski',\n",
       "           metric_params=None, n_jobs=None, n_neighbors=10, p=2,\n",
       "           weights='uniform')"
      ]
     },
     "execution_count": 41,
     "metadata": {},
     "output_type": "execute_result"
    }
   ],
   "source": [
    "# Modeling\n",
    "\n",
    "k = 10\n",
    "#Train Model and Predict  \n",
    "kNN_model = KNeighborsClassifier(n_neighbors=k).fit(X_train,y_train)\n",
    "kNN_model"
   ]
  },
  {
   "cell_type": "code",
   "execution_count": 42,
   "metadata": {},
   "outputs": [
    {
     "data": {
      "text/plain": [
       "array(['Indira Nagar', 'Koramangala', 'Koramangala', 'Koramangala',\n",
       "       'Basavanagudi'], dtype=object)"
      ]
     },
     "execution_count": 42,
     "metadata": {},
     "output_type": "execute_result"
    }
   ],
   "source": [
    "yhat = kNN_model.predict(X_test)\n",
    "yhat[0:5]"
   ]
  },
  {
   "cell_type": "code",
   "execution_count": 43,
   "metadata": {},
   "outputs": [
    {
     "name": "stdout",
     "output_type": "stream",
     "text": [
      "KNN Jaccard index: 0.09\n",
      "KNN F1-score: 0.05\n"
     ]
    },
    {
     "name": "stderr",
     "output_type": "stream",
     "text": [
      "/home/jupyterlab/conda/envs/python/lib/python3.6/site-packages/sklearn/metrics/classification.py:1143: UndefinedMetricWarning: F-score is ill-defined and being set to 0.0 in labels with no predicted samples.\n",
      "  'precision', 'predicted', average, warn_for)\n"
     ]
    }
   ],
   "source": [
    "knn_yhat = kNN_model.predict(X_test)\n",
    "print(\"KNN Jaccard index: %.2f\" % jaccard_similarity_score(y_test, knn_yhat))\n",
    "print(\"KNN F1-score: %.2f\" % f1_score(y_test, knn_yhat, average='weighted') )"
   ]
  },
  {
   "cell_type": "markdown",
   "metadata": {},
   "source": [
    "<a id='item4'></a>"
   ]
  },
  {
   "cell_type": "markdown",
   "metadata": {},
   "source": [
    "<a id='item5'></a>"
   ]
  }
 ],
 "metadata": {
  "kernelspec": {
   "display_name": "Python",
   "language": "python",
   "name": "conda-env-python-py"
  },
  "language_info": {
   "codemirror_mode": {
    "name": "ipython",
    "version": 3
   },
   "file_extension": ".py",
   "mimetype": "text/x-python",
   "name": "python",
   "nbconvert_exporter": "python",
   "pygments_lexer": "ipython3",
   "version": "3.6.7"
  },
  "widgets": {
   "state": {},
   "version": "1.1.2"
  }
 },
 "nbformat": 4,
 "nbformat_minor": 4
}
